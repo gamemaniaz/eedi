{
 "cells": [
  {
   "cell_type": "code",
   "execution_count": 1,
   "metadata": {},
   "outputs": [],
   "source": [
    "import pandas as pd"
   ]
  },
  {
   "cell_type": "code",
   "execution_count": 2,
   "metadata": {},
   "outputs": [],
   "source": [
    "run_id = \".last\""
   ]
  },
  {
   "cell_type": "code",
   "execution_count": 3,
   "metadata": {},
   "outputs": [],
   "source": [
    "inspect = f\".intm/{run_id}/df_responses.parquet\""
   ]
  },
  {
   "cell_type": "code",
   "execution_count": 4,
   "metadata": {},
   "outputs": [],
   "source": [
    "df = pd.read_parquet(inspect)"
   ]
  },
  {
   "cell_type": "code",
   "execution_count": 5,
   "metadata": {},
   "outputs": [
    {
     "data": {
      "text/html": [
       "<div>\n",
       "<style scoped>\n",
       "    .dataframe tbody tr th:only-of-type {\n",
       "        vertical-align: middle;\n",
       "    }\n",
       "\n",
       "    .dataframe tbody tr th {\n",
       "        vertical-align: top;\n",
       "    }\n",
       "\n",
       "    .dataframe thead th {\n",
       "        text-align: right;\n",
       "    }\n",
       "</style>\n",
       "<table border=\"1\" class=\"dataframe\">\n",
       "  <thead>\n",
       "    <tr style=\"text-align: right;\">\n",
       "      <th></th>\n",
       "      <th>QuestionId_Answer</th>\n",
       "      <th>Prompt</th>\n",
       "      <th>FullResponse</th>\n",
       "      <th>Response</th>\n",
       "      <th>Misconception</th>\n",
       "    </tr>\n",
       "  </thead>\n",
       "  <tbody>\n",
       "    <tr>\n",
       "      <th>count</th>\n",
       "      <td>1</td>\n",
       "      <td>1</td>\n",
       "      <td>1</td>\n",
       "      <td>1</td>\n",
       "      <td>1</td>\n",
       "    </tr>\n",
       "    <tr>\n",
       "      <th>unique</th>\n",
       "      <td>1</td>\n",
       "      <td>1</td>\n",
       "      <td>1</td>\n",
       "      <td>1</td>\n",
       "      <td>1</td>\n",
       "    </tr>\n",
       "    <tr>\n",
       "      <th>top</th>\n",
       "      <td>1399_A</td>\n",
       "      <td>&lt;|begin_of_text|&gt;&lt;|start_header_id|&gt;system&lt;|en...</td>\n",
       "      <td>&lt;|begin_of_text|&gt;&lt;|begin_of_text|&gt;&lt;|start_head...</td>\n",
       "      <td>&lt;response&gt;\\nThe misconception behind the incor...</td>\n",
       "      <td>The misconception behind the incorrect answer ...</td>\n",
       "    </tr>\n",
       "    <tr>\n",
       "      <th>freq</th>\n",
       "      <td>1</td>\n",
       "      <td>1</td>\n",
       "      <td>1</td>\n",
       "      <td>1</td>\n",
       "      <td>1</td>\n",
       "    </tr>\n",
       "  </tbody>\n",
       "</table>\n",
       "</div>"
      ],
      "text/plain": [
       "       QuestionId_Answer                                             Prompt  \\\n",
       "count                  1                                                  1   \n",
       "unique                 1                                                  1   \n",
       "top               1399_A  <|begin_of_text|><|start_header_id|>system<|en...   \n",
       "freq                   1                                                  1   \n",
       "\n",
       "                                             FullResponse  \\\n",
       "count                                                   1   \n",
       "unique                                                  1   \n",
       "top     <|begin_of_text|><|begin_of_text|><|start_head...   \n",
       "freq                                                    1   \n",
       "\n",
       "                                                 Response  \\\n",
       "count                                                   1   \n",
       "unique                                                  1   \n",
       "top     <response>\\nThe misconception behind the incor...   \n",
       "freq                                                    1   \n",
       "\n",
       "                                            Misconception  \n",
       "count                                                   1  \n",
       "unique                                                  1  \n",
       "top     The misconception behind the incorrect answer ...  \n",
       "freq                                                    1  "
      ]
     },
     "execution_count": 5,
     "metadata": {},
     "output_type": "execute_result"
    }
   ],
   "source": [
    "df.describe()"
   ]
  },
  {
   "cell_type": "code",
   "execution_count": 6,
   "metadata": {},
   "outputs": [
    {
     "data": {
      "text/html": [
       "<div>\n",
       "<style scoped>\n",
       "    .dataframe tbody tr th:only-of-type {\n",
       "        vertical-align: middle;\n",
       "    }\n",
       "\n",
       "    .dataframe tbody tr th {\n",
       "        vertical-align: top;\n",
       "    }\n",
       "\n",
       "    .dataframe thead th {\n",
       "        text-align: right;\n",
       "    }\n",
       "</style>\n",
       "<table border=\"1\" class=\"dataframe\">\n",
       "  <thead>\n",
       "    <tr style=\"text-align: right;\">\n",
       "      <th></th>\n",
       "      <th>QuestionId_Answer</th>\n",
       "      <th>Prompt</th>\n",
       "      <th>FullResponse</th>\n",
       "      <th>Response</th>\n",
       "      <th>Misconception</th>\n",
       "    </tr>\n",
       "  </thead>\n",
       "  <tbody>\n",
       "    <tr>\n",
       "      <th>0</th>\n",
       "      <td>1399_A</td>\n",
       "      <td>&lt;|begin_of_text|&gt;&lt;|start_header_id|&gt;system&lt;|en...</td>\n",
       "      <td>&lt;|begin_of_text|&gt;&lt;|begin_of_text|&gt;&lt;|start_head...</td>\n",
       "      <td>&lt;response&gt;\\nThe misconception behind the incor...</td>\n",
       "      <td>The misconception behind the incorrect answer ...</td>\n",
       "    </tr>\n",
       "  </tbody>\n",
       "</table>\n",
       "</div>"
      ],
      "text/plain": [
       "  QuestionId_Answer                                             Prompt  \\\n",
       "0            1399_A  <|begin_of_text|><|start_header_id|>system<|en...   \n",
       "\n",
       "                                        FullResponse  \\\n",
       "0  <|begin_of_text|><|begin_of_text|><|start_head...   \n",
       "\n",
       "                                            Response  \\\n",
       "0  <response>\\nThe misconception behind the incor...   \n",
       "\n",
       "                                       Misconception  \n",
       "0  The misconception behind the incorrect answer ...  "
      ]
     },
     "execution_count": 6,
     "metadata": {},
     "output_type": "execute_result"
    }
   ],
   "source": [
    "df.head()"
   ]
  },
  {
   "cell_type": "code",
   "execution_count": 7,
   "metadata": {},
   "outputs": [
    {
     "data": {
      "text/html": [
       "<div>\n",
       "<style scoped>\n",
       "    .dataframe tbody tr th:only-of-type {\n",
       "        vertical-align: middle;\n",
       "    }\n",
       "\n",
       "    .dataframe tbody tr th {\n",
       "        vertical-align: top;\n",
       "    }\n",
       "\n",
       "    .dataframe thead th {\n",
       "        text-align: right;\n",
       "    }\n",
       "</style>\n",
       "<table border=\"1\" class=\"dataframe\">\n",
       "  <thead>\n",
       "    <tr style=\"text-align: right;\">\n",
       "      <th></th>\n",
       "      <th>0</th>\n",
       "    </tr>\n",
       "  </thead>\n",
       "  <tbody>\n",
       "    <tr>\n",
       "      <th>QuestionId_Answer</th>\n",
       "      <td>1399_A</td>\n",
       "    </tr>\n",
       "    <tr>\n",
       "      <th>Prompt</th>\n",
       "      <td>&lt;|begin_of_text|&gt;&lt;|start_header_id|&gt;system&lt;|en...</td>\n",
       "    </tr>\n",
       "    <tr>\n",
       "      <th>FullResponse</th>\n",
       "      <td>&lt;|begin_of_text|&gt;&lt;|begin_of_text|&gt;&lt;|start_head...</td>\n",
       "    </tr>\n",
       "    <tr>\n",
       "      <th>Response</th>\n",
       "      <td>&lt;response&gt;\\nThe misconception behind the incor...</td>\n",
       "    </tr>\n",
       "    <tr>\n",
       "      <th>Misconception</th>\n",
       "      <td>The misconception behind the incorrect answer ...</td>\n",
       "    </tr>\n",
       "  </tbody>\n",
       "</table>\n",
       "</div>"
      ],
      "text/plain": [
       "                                                                   0\n",
       "QuestionId_Answer                                             1399_A\n",
       "Prompt             <|begin_of_text|><|start_header_id|>system<|en...\n",
       "FullResponse       <|begin_of_text|><|begin_of_text|><|start_head...\n",
       "Response           <response>\\nThe misconception behind the incor...\n",
       "Misconception      The misconception behind the incorrect answer ..."
      ]
     },
     "execution_count": 7,
     "metadata": {},
     "output_type": "execute_result"
    }
   ],
   "source": [
    "df.head(1).transpose()"
   ]
  },
  {
   "cell_type": "code",
   "execution_count": 8,
   "metadata": {},
   "outputs": [
    {
     "name": "stdout",
     "output_type": "stream",
     "text": [
      "<|begin_of_text|><|start_header_id|>system<|end_header_id|>\n",
      "\n",
      "Cutting Knowledge Date: December 2023\n",
      "Today Date: 01 Nov 2024\n",
      "\n",
      "<|eot_id|><|start_header_id|>user<|end_header_id|>\n",
      "\n",
      "Question: What is the relationship between these two angles? ![\\( \\theta \\)]()\n",
      "Incorrect Answer: They add together to make \\[360\\degree\\]\n",
      "Correct Answer: They are equal\n",
      "Construct Name: Recognise the angles around a point relationship\n",
      "Subject Name: Basic Angle Facts (straight line, opposite, around a point, etc)\n",
      "\n",
      "Your task: Identify the misconception behind Incorrect Answer. Answer concisely and generically inside <response>$$INSERT TEXT HERE$$</response>.\n",
      "Before answering the question think step by step concisely in 1-2 sentence inside <thinking>$$INSERT TEXT HERE$$</thinking> tag and respond your final misconception inside <response>$$INSERT TEXT HERE$$</response> tag.<|eot_id|><|start_header_id|>assistant<|end_header_id|>\n",
      "\n",
      "\n"
     ]
    }
   ],
   "source": [
    "print(df[\"Prompt\"][0])"
   ]
  },
  {
   "cell_type": "code",
   "execution_count": 9,
   "metadata": {},
   "outputs": [
    {
     "data": {
      "text/plain": [
       "911"
      ]
     },
     "execution_count": 9,
     "metadata": {},
     "output_type": "execute_result"
    }
   ],
   "source": [
    "len(df[\"Prompt\"][0])"
   ]
  },
  {
   "cell_type": "code",
   "execution_count": 10,
   "metadata": {},
   "outputs": [
    {
     "name": "stdout",
     "output_type": "stream",
     "text": [
      "<|begin_of_text|><|begin_of_text|><|start_header_id|>system<|end_header_id|>\n",
      "\n",
      "Cutting Knowledge Date: December 2023\n",
      "Today Date: 01 Nov 2024\n",
      "\n",
      "<|eot_id|><|start_header_id|>user<|end_header_id|>\n",
      "\n",
      "Question: What is the relationship between these two angles?![\\( \\theta \\)]()\n",
      "Incorrect Answer: They add together to make \\[360\\degree\\]\n",
      "Correct Answer: They are equal\n",
      "Construct Name: Recognise the angles around a point relationship\n",
      "Subject Name: Basic Angle Facts (straight line, opposite, around a point, etc)\n",
      "\n",
      "Your task: Identify the misconception behind Incorrect Answer. Answer concisely and generically inside <response>$$INSERT TEXT HERE$$</response>.\n",
      "Before answering the question think step by step concisely in 1-2 sentence inside <thinking>$$INSERT TEXT HERE$$</thinking> tag and respond your final misconception inside <response>$$INSERT TEXT HERE$$</response> tag.<|eot_id|><|start_header_id|>assistant<|end_header_id|>\n",
      "\n",
      "<response>\n",
      "The misconception behind the incorrect answer is that the angles do not necessarily add up to 360 degrees. This is because the angles are not necessarily supplementary, meaning they do not form a straight line. The correct relationship is that the two angles are equal, as they are formed by the same arc or circle.</response>\n",
      "\n",
      "<thinking>\n",
      "When evaluating the relationship between two angles, we must consider the context in which they are formed. In this case, the incorrect answer assumes that the angles are supplementary, but without more information, we cannot assume that they add up to 180 degrees. The correct answer relies on the understanding that the angles are equal, as they are formed by the same arc or circle.</thinking><|eot_id|>\n"
     ]
    }
   ],
   "source": [
    "print(df[\"FullResponse\"][0])"
   ]
  },
  {
   "cell_type": "code",
   "execution_count": 11,
   "metadata": {},
   "outputs": [
    {
     "name": "stdout",
     "output_type": "stream",
     "text": [
      "<response>\n",
      "The misconception behind the incorrect answer is that the angles do not necessarily add up to 360 degrees. This is because the angles are not necessarily supplementary, meaning they do not form a straight line. The correct relationship is that the two angles are equal, as they are formed by the same arc or circle.</response>\n",
      "\n",
      "<thinking>\n",
      "When evaluating the relationship between two angles, we must consider the context in which they are formed. In this case, the incorrect answer assumes that the angles are supplementary, but without more information, we cannot assume that they add up to 180 degrees. The correct answer relies on the understanding that the angles are equal, as they are formed by the same arc or circle.</thinking><|eot_id|>\n"
     ]
    }
   ],
   "source": [
    "print(df[\"Response\"][0])"
   ]
  },
  {
   "cell_type": "code",
   "execution_count": 12,
   "metadata": {},
   "outputs": [
    {
     "name": "stdout",
     "output_type": "stream",
     "text": [
      "The misconception behind the incorrect answer is that the angles do not necessarily add up to 360 degrees. This is because the angles are not necessarily supplementary, meaning they do not form a straight line. The correct relationship is that the two angles are equal, as they are formed by the same arc or circle.\n"
     ]
    }
   ],
   "source": [
    "print(df[\"Misconception\"][0])"
   ]
  }
 ],
 "metadata": {
  "kernelspec": {
   "display_name": "eedi",
   "language": "python",
   "name": "python3"
  },
  "language_info": {
   "codemirror_mode": {
    "name": "ipython",
    "version": 3
   },
   "file_extension": ".py",
   "mimetype": "text/x-python",
   "name": "python",
   "nbconvert_exporter": "python",
   "pygments_lexer": "ipython3",
   "version": "3.10.15"
  }
 },
 "nbformat": 4,
 "nbformat_minor": 2
}
