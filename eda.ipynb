{
 "cells": [
  {
   "cell_type": "code",
   "execution_count": 1,
   "metadata": {},
   "outputs": [
    {
     "name": "stderr",
     "output_type": "stream",
     "text": [
      "c:\\Users\\gamem\\mambaforge\\envs\\eedi\\lib\\site-packages\\sentence_transformers\\cross_encoder\\CrossEncoder.py:13: TqdmExperimentalWarning: Using `tqdm.autonotebook.tqdm` in notebook mode. Use `tqdm.tqdm` instead to force console mode (e.g. in jupyter console)\n",
      "  from tqdm.autonotebook import tqdm, trange\n"
     ]
    }
   ],
   "source": [
    "# imports\n",
    "import re\n",
    "\n",
    "import numpy as np\n",
    "import pandas as pd\n",
    "import torch\n",
    "from sentence_transformers import SentenceTransformer\n",
    "from sklearn.metrics.pairwise import cosine_similarity\n",
    "from transformers import AutoTokenizer, pipeline\n",
    "from sklearn.model_selection import train_test_split\n",
    "from tqdm.notebook import tqdm"
   ]
  },
  {
   "cell_type": "code",
   "execution_count": 2,
   "metadata": {},
   "outputs": [],
   "source": [
    "# constants\n",
    "eedi_train_csv = \"data/train.csv\"\n",
    "eedi_test_csv = \"data/test.csv\"\n",
    "eedi_miscon_csv = \"data/misconception_mapping.csv\"\n",
    "llm_model_id = \"meta-llama/Llama-3.2-1B-Instruct\"\n",
    "sbert_model_id = \"BAAI/bge-small-en-v1.5\"\n",
    "submission_csv = \"submission.csv\""
   ]
  },
  {
   "cell_type": "code",
   "execution_count": 3,
   "metadata": {},
   "outputs": [],
   "source": [
    "df = pd.read_csv(\n",
    "    eedi_train_csv,\n",
    "    dtype={\n",
    "        \"MisconceptionAId\": \"Int64\",\n",
    "        \"MisconceptionBId\": \"Int64\",\n",
    "        \"MisconceptionCId\": \"Int64\",\n",
    "        \"MisconceptionDId\": \"Int64\",\n",
    "    },\n",
    ").fillna(-1)"
   ]
  },
  {
   "cell_type": "code",
   "execution_count": 4,
   "metadata": {},
   "outputs": [
    {
     "data": {
      "text/html": [
       "<div>\n",
       "<style scoped>\n",
       "    .dataframe tbody tr th:only-of-type {\n",
       "        vertical-align: middle;\n",
       "    }\n",
       "\n",
       "    .dataframe tbody tr th {\n",
       "        vertical-align: top;\n",
       "    }\n",
       "\n",
       "    .dataframe thead th {\n",
       "        text-align: right;\n",
       "    }\n",
       "</style>\n",
       "<table border=\"1\" class=\"dataframe\">\n",
       "  <thead>\n",
       "    <tr style=\"text-align: right;\">\n",
       "      <th></th>\n",
       "      <th>0</th>\n",
       "    </tr>\n",
       "  </thead>\n",
       "  <tbody>\n",
       "    <tr>\n",
       "      <th>QuestionId</th>\n",
       "      <td>0</td>\n",
       "    </tr>\n",
       "    <tr>\n",
       "      <th>ConstructId</th>\n",
       "      <td>856</td>\n",
       "    </tr>\n",
       "    <tr>\n",
       "      <th>ConstructName</th>\n",
       "      <td>Use the order of operations to carry out calcu...</td>\n",
       "    </tr>\n",
       "    <tr>\n",
       "      <th>SubjectId</th>\n",
       "      <td>33</td>\n",
       "    </tr>\n",
       "    <tr>\n",
       "      <th>SubjectName</th>\n",
       "      <td>BIDMAS</td>\n",
       "    </tr>\n",
       "    <tr>\n",
       "      <th>CorrectAnswer</th>\n",
       "      <td>A</td>\n",
       "    </tr>\n",
       "    <tr>\n",
       "      <th>QuestionText</th>\n",
       "      <td>\\[\\n3 \\times 2+4-5\\n\\]\\nWhere do the brackets ...</td>\n",
       "    </tr>\n",
       "    <tr>\n",
       "      <th>AnswerAText</th>\n",
       "      <td>\\( 3 \\times(2+4)-5 \\)</td>\n",
       "    </tr>\n",
       "    <tr>\n",
       "      <th>AnswerBText</th>\n",
       "      <td>\\( 3 \\times 2+(4-5) \\)</td>\n",
       "    </tr>\n",
       "    <tr>\n",
       "      <th>AnswerCText</th>\n",
       "      <td>\\( 3 \\times(2+4-5) \\)</td>\n",
       "    </tr>\n",
       "    <tr>\n",
       "      <th>AnswerDText</th>\n",
       "      <td>Does not need brackets</td>\n",
       "    </tr>\n",
       "    <tr>\n",
       "      <th>MisconceptionAId</th>\n",
       "      <td>-1</td>\n",
       "    </tr>\n",
       "    <tr>\n",
       "      <th>MisconceptionBId</th>\n",
       "      <td>-1</td>\n",
       "    </tr>\n",
       "    <tr>\n",
       "      <th>MisconceptionCId</th>\n",
       "      <td>-1</td>\n",
       "    </tr>\n",
       "    <tr>\n",
       "      <th>MisconceptionDId</th>\n",
       "      <td>1672</td>\n",
       "    </tr>\n",
       "  </tbody>\n",
       "</table>\n",
       "</div>"
      ],
      "text/plain": [
       "                                                                  0\n",
       "QuestionId                                                        0\n",
       "ConstructId                                                     856\n",
       "ConstructName     Use the order of operations to carry out calcu...\n",
       "SubjectId                                                        33\n",
       "SubjectName                                                  BIDMAS\n",
       "CorrectAnswer                                                     A\n",
       "QuestionText      \\[\\n3 \\times 2+4-5\\n\\]\\nWhere do the brackets ...\n",
       "AnswerAText                                   \\( 3 \\times(2+4)-5 \\)\n",
       "AnswerBText                                  \\( 3 \\times 2+(4-5) \\)\n",
       "AnswerCText                                   \\( 3 \\times(2+4-5) \\)\n",
       "AnswerDText                                  Does not need brackets\n",
       "MisconceptionAId                                                 -1\n",
       "MisconceptionBId                                                 -1\n",
       "MisconceptionCId                                                 -1\n",
       "MisconceptionDId                                               1672"
      ]
     },
     "execution_count": 4,
     "metadata": {},
     "output_type": "execute_result"
    }
   ],
   "source": [
    "df.head(1).transpose()"
   ]
  },
  {
   "cell_type": "code",
   "execution_count": null,
   "metadata": {},
   "outputs": [],
   "source": [
    "df.describe()"
   ]
  }
 ],
 "metadata": {
  "kernelspec": {
   "display_name": "eedi",
   "language": "python",
   "name": "python3"
  },
  "language_info": {
   "codemirror_mode": {
    "name": "ipython",
    "version": 3
   },
   "file_extension": ".py",
   "mimetype": "text/x-python",
   "name": "python",
   "nbconvert_exporter": "python",
   "pygments_lexer": "ipython3",
   "version": "3.10.15"
  }
 },
 "nbformat": 4,
 "nbformat_minor": 2
}
