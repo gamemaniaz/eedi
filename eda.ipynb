{
 "cells": [
  {
   "cell_type": "code",
   "execution_count": 1,
   "metadata": {},
   "outputs": [
    {
     "name": "stderr",
     "output_type": "stream",
     "text": [
      "c:\\Users\\gamem\\mambaforge\\envs\\eedi\\lib\\site-packages\\sentence_transformers\\cross_encoder\\CrossEncoder.py:13: TqdmExperimentalWarning: Using `tqdm.autonotebook.tqdm` in notebook mode. Use `tqdm.tqdm` instead to force console mode (e.g. in jupyter console)\n",
      "  from tqdm.autonotebook import tqdm, trange\n"
     ]
    }
   ],
   "source": [
    "# imports\n",
    "import re\n",
    "\n",
    "import numpy as np\n",
    "import pandas as pd\n",
    "import torch\n",
    "from sentence_transformers import SentenceTransformer\n",
    "from sklearn.metrics.pairwise import cosine_similarity\n",
    "from transformers import AutoTokenizer, pipeline\n",
    "from sklearn.model_selection import train_test_split\n",
    "from tqdm.notebook import tqdm"
   ]
  },
  {
   "cell_type": "code",
   "execution_count": 2,
   "metadata": {},
   "outputs": [],
   "source": [
    "# constants\n",
    "eedi_train_csv = \"data/train.csv\"\n",
    "eedi_test_csv = \"data/test.csv\"\n",
    "eedi_miscon_csv = \"data/misconception_mapping.csv\"\n",
    "llm_model_id = \"meta-llama/Llama-3.2-1B-Instruct\"\n",
    "sbert_model_id = \"BAAI/bge-small-en-v1.5\"\n",
    "submission_csv = \"submission.csv\""
   ]
  },
  {
   "cell_type": "code",
   "execution_count": 3,
   "metadata": {},
   "outputs": [],
   "source": [
    "# quick util\n",
    "def dfpeek(title: str, df: pd.DataFrame) -> None:\n",
    "    print(\">>>>>>>>>>\", title, \">>>>>>>>>\")\n",
    "    display(df.head(1).transpose())\n",
    "    print(\"<<<<<<<<<<\", title, \"<<<<<<<<<<\", end=\"\\n\\n\")"
   ]
  },
  {
   "cell_type": "markdown",
   "metadata": {},
   "source": [
    "#### eedi_train_csv"
   ]
  },
  {
   "cell_type": "code",
   "execution_count": 4,
   "metadata": {},
   "outputs": [],
   "source": [
    "df = pd.read_csv(\n",
    "    eedi_train_csv,\n",
    "    dtype={\n",
    "        \"MisconceptionAId\": \"Int64\",\n",
    "        \"MisconceptionBId\": \"Int64\",\n",
    "        \"MisconceptionCId\": \"Int64\",\n",
    "        \"MisconceptionDId\": \"Int64\",\n",
    "    },\n",
    ").fillna(-1)"
   ]
  },
  {
   "cell_type": "code",
   "execution_count": 10,
   "metadata": {},
   "outputs": [
    {
     "data": {
      "text/html": [
       "<div>\n",
       "<style scoped>\n",
       "    .dataframe tbody tr th:only-of-type {\n",
       "        vertical-align: middle;\n",
       "    }\n",
       "\n",
       "    .dataframe tbody tr th {\n",
       "        vertical-align: top;\n",
       "    }\n",
       "\n",
       "    .dataframe thead th {\n",
       "        text-align: right;\n",
       "    }\n",
       "</style>\n",
       "<table border=\"1\" class=\"dataframe\">\n",
       "  <thead>\n",
       "    <tr style=\"text-align: right;\">\n",
       "      <th></th>\n",
       "      <th>ConstructName</th>\n",
       "      <th>SubjectName</th>\n",
       "      <th>QuestionText</th>\n",
       "    </tr>\n",
       "  </thead>\n",
       "  <tbody>\n",
       "    <tr>\n",
       "      <th>0</th>\n",
       "      <td>Use the order of operations to carry out calcu...</td>\n",
       "      <td>BIDMAS</td>\n",
       "      <td>\\[\\n3 \\times 2+4-5\\n\\]\\nWhere do the brackets ...</td>\n",
       "    </tr>\n",
       "    <tr>\n",
       "      <th>1</th>\n",
       "      <td>Simplify an algebraic fraction by factorising ...</td>\n",
       "      <td>Simplifying Algebraic Fractions</td>\n",
       "      <td>Simplify the following, if possible: \\( \\frac{...</td>\n",
       "    </tr>\n",
       "    <tr>\n",
       "      <th>2</th>\n",
       "      <td>Calculate the range from a list of data</td>\n",
       "      <td>Range and Interquartile Range from a List of Data</td>\n",
       "      <td>Tom and Katie are discussing the \\( 5 \\) plant...</td>\n",
       "    </tr>\n",
       "    <tr>\n",
       "      <th>3</th>\n",
       "      <td>Recall and use the intersecting diagonals prop...</td>\n",
       "      <td>Properties of Quadrilaterals</td>\n",
       "      <td>The angles highlighted on this rectangle with ...</td>\n",
       "    </tr>\n",
       "    <tr>\n",
       "      <th>4</th>\n",
       "      <td>Substitute positive integer values into formul...</td>\n",
       "      <td>Substitution into Formula</td>\n",
       "      <td>The equation \\( f=3 r^{2}+3 \\) is used to find...</td>\n",
       "    </tr>\n",
       "    <tr>\n",
       "      <th>...</th>\n",
       "      <td>...</td>\n",
       "      <td>...</td>\n",
       "      <td>...</td>\n",
       "    </tr>\n",
       "    <tr>\n",
       "      <th>1864</th>\n",
       "      <td>Calculate the range from a list of data</td>\n",
       "      <td>Range and Interquartile Range from a List of Data</td>\n",
       "      <td>What is the range of the following numbers?\\n\\...</td>\n",
       "    </tr>\n",
       "    <tr>\n",
       "      <th>1865</th>\n",
       "      <td>Describe an enlargement, with no centre of enl...</td>\n",
       "      <td>Length Scale Factors in Similar Shapes</td>\n",
       "      <td>Shape \\( Q \\) is an enlargement of shape \\( P ...</td>\n",
       "    </tr>\n",
       "    <tr>\n",
       "      <th>1866</th>\n",
       "      <td>Use the order of operations to carry out calcu...</td>\n",
       "      <td>BIDMAS</td>\n",
       "      <td>What does the following equal?\\n\\[\\n8-7+10 \\ti...</td>\n",
       "    </tr>\n",
       "    <tr>\n",
       "      <th>1867</th>\n",
       "      <td>Distinguish between congruency and similarity</td>\n",
       "      <td>Congruency in Other Shapes</td>\n",
       "      <td>Tom and Katie are discussing congruence and si...</td>\n",
       "    </tr>\n",
       "    <tr>\n",
       "      <th>1868</th>\n",
       "      <td>Describe a 90° or 270° rotation giving the ang...</td>\n",
       "      <td>Rotation</td>\n",
       "      <td>Jo and Paul are arguing about how to fully des...</td>\n",
       "    </tr>\n",
       "  </tbody>\n",
       "</table>\n",
       "<p>1869 rows × 3 columns</p>\n",
       "</div>"
      ],
      "text/plain": [
       "                                          ConstructName  \\\n",
       "0     Use the order of operations to carry out calcu...   \n",
       "1     Simplify an algebraic fraction by factorising ...   \n",
       "2               Calculate the range from a list of data   \n",
       "3     Recall and use the intersecting diagonals prop...   \n",
       "4     Substitute positive integer values into formul...   \n",
       "...                                                 ...   \n",
       "1864            Calculate the range from a list of data   \n",
       "1865  Describe an enlargement, with no centre of enl...   \n",
       "1866  Use the order of operations to carry out calcu...   \n",
       "1867      Distinguish between congruency and similarity   \n",
       "1868  Describe a 90° or 270° rotation giving the ang...   \n",
       "\n",
       "                                            SubjectName  \\\n",
       "0                                                BIDMAS   \n",
       "1                       Simplifying Algebraic Fractions   \n",
       "2     Range and Interquartile Range from a List of Data   \n",
       "3                          Properties of Quadrilaterals   \n",
       "4                             Substitution into Formula   \n",
       "...                                                 ...   \n",
       "1864  Range and Interquartile Range from a List of Data   \n",
       "1865             Length Scale Factors in Similar Shapes   \n",
       "1866                                             BIDMAS   \n",
       "1867                         Congruency in Other Shapes   \n",
       "1868                                           Rotation   \n",
       "\n",
       "                                           QuestionText  \n",
       "0     \\[\\n3 \\times 2+4-5\\n\\]\\nWhere do the brackets ...  \n",
       "1     Simplify the following, if possible: \\( \\frac{...  \n",
       "2     Tom and Katie are discussing the \\( 5 \\) plant...  \n",
       "3     The angles highlighted on this rectangle with ...  \n",
       "4     The equation \\( f=3 r^{2}+3 \\) is used to find...  \n",
       "...                                                 ...  \n",
       "1864  What is the range of the following numbers?\\n\\...  \n",
       "1865  Shape \\( Q \\) is an enlargement of shape \\( P ...  \n",
       "1866  What does the following equal?\\n\\[\\n8-7+10 \\ti...  \n",
       "1867  Tom and Katie are discussing congruence and si...  \n",
       "1868  Jo and Paul are arguing about how to fully des...  \n",
       "\n",
       "[1869 rows x 3 columns]"
      ]
     },
     "execution_count": 10,
     "metadata": {},
     "output_type": "execute_result"
    }
   ],
   "source": [
    "df[[\"ConstructName\", \"SubjectName\", \"QuestionText\"]]"
   ]
  },
  {
   "cell_type": "code",
   "execution_count": null,
   "metadata": {},
   "outputs": [],
   "source": [
    "df.head(1).transpose()"
   ]
  },
  {
   "cell_type": "code",
   "execution_count": null,
   "metadata": {},
   "outputs": [],
   "source": [
    "df.describe()"
   ]
  },
  {
   "cell_type": "markdown",
   "metadata": {},
   "source": [
    "#### eedi_miscon_csv"
   ]
  },
  {
   "cell_type": "code",
   "execution_count": null,
   "metadata": {},
   "outputs": [],
   "source": [
    "df = pd.read_csv(eedi_miscon_csv)"
   ]
  },
  {
   "cell_type": "code",
   "execution_count": null,
   "metadata": {},
   "outputs": [],
   "source": [
    "df.head(1).transpose()"
   ]
  },
  {
   "cell_type": "code",
   "execution_count": null,
   "metadata": {},
   "outputs": [],
   "source": [
    "df.describe()"
   ]
  },
  {
   "cell_type": "markdown",
   "metadata": {},
   "source": [
    "#### df_x and df_y"
   ]
  },
  {
   "cell_type": "code",
   "execution_count": null,
   "metadata": {},
   "outputs": [],
   "source": [
    "df_x = pd.read_parquet(\".intm/df_x.parquet\")\n",
    "df_y = pd.read_parquet(\".intm/df_y.parquet\")\n",
    "dfpeek(\"df_x\", df_x)\n",
    "dfpeek(\"df_y\", df_y)"
   ]
  },
  {
   "cell_type": "markdown",
   "metadata": {},
   "source": [
    "#### Prompts"
   ]
  },
  {
   "cell_type": "code",
   "execution_count": null,
   "metadata": {},
   "outputs": [],
   "source": [
    "df_prompts = pd.read_parquet(\"D:/Drive/school/sem1/CS5242/Project/eedi/.intm/b7d6ed11-7c6e-4e8a-af2a-49323e7c5032/df_prompt_train.parquet\")"
   ]
  },
  {
   "cell_type": "code",
   "execution_count": null,
   "metadata": {},
   "outputs": [],
   "source": [
    "dfpeek(\"df_prompts\", df_prompts)"
   ]
  },
  {
   "cell_type": "code",
   "execution_count": null,
   "metadata": {},
   "outputs": [],
   "source": [
    "tokenizer = AutoTokenizer.from_pretrained(llm_model_id)\n",
    "tokenizer.pad_token = tokenizer.eos_token"
   ]
  },
  {
   "cell_type": "code",
   "execution_count": null,
   "metadata": {},
   "outputs": [],
   "source": [
    "max([len(x) for x in df_prompts[\"Prompt\"].to_list()])"
   ]
  },
  {
   "cell_type": "code",
   "execution_count": null,
   "metadata": {},
   "outputs": [],
   "source": [
    "model_inputs = tokenizer(df_prompts[\"Prompt\"].to_list(), return_tensors=\"pt\", padding=\"max_length\")"
   ]
  },
  {
   "cell_type": "markdown",
   "metadata": {},
   "source": [
    "#### df_responses"
   ]
  },
  {
   "cell_type": "code",
   "execution_count": 7,
   "metadata": {},
   "outputs": [],
   "source": [
    "df_responses = pd.read_parquet(\"D:/Drive/school/sem1/CS5242/Project/eedi/.intm/be5e8e88-a441-4ae2-a37b-c7aae27ff5bc/df_responses.parquet\")"
   ]
  },
  {
   "cell_type": "code",
   "execution_count": 8,
   "metadata": {},
   "outputs": [
    {
     "name": "stdout",
     "output_type": "stream",
     "text": [
      ">>>>>>>>>> df_responses >>>>>>>>>\n"
     ]
    },
    {
     "data": {
      "text/html": [
       "<div>\n",
       "<style scoped>\n",
       "    .dataframe tbody tr th:only-of-type {\n",
       "        vertical-align: middle;\n",
       "    }\n",
       "\n",
       "    .dataframe tbody tr th {\n",
       "        vertical-align: top;\n",
       "    }\n",
       "\n",
       "    .dataframe thead th {\n",
       "        text-align: right;\n",
       "    }\n",
       "</style>\n",
       "<table border=\"1\" class=\"dataframe\">\n",
       "  <thead>\n",
       "    <tr style=\"text-align: right;\">\n",
       "      <th></th>\n",
       "      <th>0</th>\n",
       "    </tr>\n",
       "  </thead>\n",
       "  <tbody>\n",
       "    <tr>\n",
       "      <th>QuestionId_Answer</th>\n",
       "      <td>824_C</td>\n",
       "    </tr>\n",
       "    <tr>\n",
       "      <th>Prompt</th>\n",
       "      <td>&lt;|begin_of_text|&gt;&lt;|start_header_id|&gt;system&lt;|en...</td>\n",
       "    </tr>\n",
       "    <tr>\n",
       "      <th>FullResponse</th>\n",
       "      <td>system\\n\\nCutting Knowledge Date: December 202...</td>\n",
       "    </tr>\n",
       "    <tr>\n",
       "      <th>Misconception</th>\n",
       "      <td>$$INSERT TEXT HERE$$ $$INSERT TEXT HERE$$</td>\n",
       "    </tr>\n",
       "  </tbody>\n",
       "</table>\n",
       "</div>"
      ],
      "text/plain": [
       "                                                                   0\n",
       "QuestionId_Answer                                              824_C\n",
       "Prompt             <|begin_of_text|><|start_header_id|>system<|en...\n",
       "FullResponse       system\\n\\nCutting Knowledge Date: December 202...\n",
       "Misconception              $$INSERT TEXT HERE$$ $$INSERT TEXT HERE$$"
      ]
     },
     "metadata": {},
     "output_type": "display_data"
    },
    {
     "name": "stdout",
     "output_type": "stream",
     "text": [
      "<<<<<<<<<< df_responses <<<<<<<<<<\n",
      "\n"
     ]
    }
   ],
   "source": [
    "dfpeek(\"df_responses\", df_responses)"
   ]
  },
  {
   "cell_type": "code",
   "execution_count": null,
   "metadata": {},
   "outputs": [],
   "source": []
  }
 ],
 "metadata": {
  "kernelspec": {
   "display_name": "eedi",
   "language": "python",
   "name": "python3"
  },
  "language_info": {
   "codemirror_mode": {
    "name": "ipython",
    "version": 3
   },
   "file_extension": ".py",
   "mimetype": "text/x-python",
   "name": "python",
   "nbconvert_exporter": "python",
   "pygments_lexer": "ipython3",
   "version": "3.10.15"
  }
 },
 "nbformat": 4,
 "nbformat_minor": 2
}
