{
 "cells": [
  {
   "cell_type": "code",
   "execution_count": 1,
   "metadata": {},
   "outputs": [],
   "source": [
    "import pandas as pd"
   ]
  },
  {
   "cell_type": "code",
   "execution_count": 7,
   "metadata": {},
   "outputs": [],
   "source": [
    "df = pd.read_parquet(\"/root/projects/eedi/.res/6a3c30e0-b1cb-4850-b44b-ac592f64c4d9/df_responses.parquet\")"
   ]
  },
  {
   "cell_type": "code",
   "execution_count": 9,
   "metadata": {},
   "outputs": [
    {
     "data": {
      "text/html": [
       "<div>\n",
       "<style scoped>\n",
       "    .dataframe tbody tr th:only-of-type {\n",
       "        vertical-align: middle;\n",
       "    }\n",
       "\n",
       "    .dataframe tbody tr th {\n",
       "        vertical-align: top;\n",
       "    }\n",
       "\n",
       "    .dataframe thead th {\n",
       "        text-align: right;\n",
       "    }\n",
       "</style>\n",
       "<table border=\"1\" class=\"dataframe\">\n",
       "  <thead>\n",
       "    <tr style=\"text-align: right;\">\n",
       "      <th></th>\n",
       "      <th>QuestionId_Answer</th>\n",
       "      <th>Prompt</th>\n",
       "      <th>FullResponse</th>\n",
       "      <th>Response</th>\n",
       "      <th>Misconception</th>\n",
       "    </tr>\n",
       "  </thead>\n",
       "  <tbody>\n",
       "    <tr>\n",
       "      <th>0</th>\n",
       "      <td>1046_A</td>\n",
       "      <td>&lt;|begin_of_text|&gt;&lt;|start_header_id|&gt;system&lt;|en...</td>\n",
       "      <td>&lt;|begin_of_text|&gt;&lt;|begin_of_text|&gt;&lt;|start_head...</td>\n",
       "      <td>&lt;response&gt;\\nThe misconception behind the Incor...</td>\n",
       "      <td>The misconception behind the Incorrect Answer ...</td>\n",
       "    </tr>\n",
       "  </tbody>\n",
       "</table>\n",
       "</div>"
      ],
      "text/plain": [
       "  QuestionId_Answer                                             Prompt  \\\n",
       "0            1046_A  <|begin_of_text|><|start_header_id|>system<|en...   \n",
       "\n",
       "                                        FullResponse  \\\n",
       "0  <|begin_of_text|><|begin_of_text|><|start_head...   \n",
       "\n",
       "                                            Response  \\\n",
       "0  <response>\\nThe misconception behind the Incor...   \n",
       "\n",
       "                                       Misconception  \n",
       "0  The misconception behind the Incorrect Answer ...  "
      ]
     },
     "execution_count": 9,
     "metadata": {},
     "output_type": "execute_result"
    }
   ],
   "source": [
    "df"
   ]
  },
  {
   "cell_type": "code",
   "execution_count": 8,
   "metadata": {},
   "outputs": [
    {
     "name": "stdout",
     "output_type": "stream",
     "text": [
      "<|begin_of_text|><|begin_of_text|><|start_header_id|>system<|end_header_id|>\n",
      "\n",
      "Cutting Knowledge Date: December 2023\n",
      "Today Date: 21 Nov 2024\n",
      "\n",
      "<|eot_id|><|start_header_id|>user<|end_header_id|>\n",
      "\n",
      "<knowledge>\n",
      "Here's a step-by-step guide on how a student can perform the first stage in an iteration solution for the given task:\n",
      "\n",
      "**Task:** Carry out the first stage in an iteration solution\n",
      "\n",
      "**Subject:** Trial and Improvement and Iterative Methods\n",
      "\n",
      "**Task Construct:** This task involves breaking down a complex problem into smaller, manageable parts, identifying potential solutions, and testing them to refine and improve the solution.\n",
      "\n",
      "**Step 1: Break Down the Problem (Identify the Problem Boundaries)**\n",
      "\n",
      "* Read and understand the problem statement and identify the key elements, constraints, and requirements.\n",
      "* Determine the scope of the problem and break it down into smaller, more manageable parts.\n",
      "* Identify the key stakeholders and their expectations.\n",
      "* Create a list of potential questions to answer during the iteration process.\n",
      "\n",
      "Example: If the problem is \"Design a new website for an e-commerce company,\" the student might break it down into smaller parts, such as:\n",
      "- User experience\n",
      "- User interface\n",
      "- Functionality\n",
      "- Technical requirements\n",
      "\n",
      "**Step 2: Brainstorm Potential Solutions (Identify Possible Solutions)**\n",
      "\n",
      "* Use brainstorming techniques, such as mind mapping or listing, to generate a list of potential solutions for each part of the problem.\n",
      "* Consider different perspectives, including those of the users, stakeholders, and experts.\n",
      "* Evaluate the feasibility and potential impact of each potential solution.\n",
      "\n",
      "Example: For the e-commerce website, the student might come up with potential solutions, such as:\n",
      "- User experience: a clean and intuitive navigation menu\n",
      "- User interface: a responsive design that adapts to different devices\n",
      "- Functionality: integrating payment gateways and shipping options\n",
      "- Technical requirements: using a scalable and secure framework\n",
      "\n",
      "**Step 3: Evaluate and Refine Potential Solutions (Analyze and Prioritize)**\n",
      "\n",
      "* Evaluate each potential solution based on the identified criteria and constraints.\n",
      "* Use decision-making frameworks, such as Pareto analysis or SWOT analysis, to prioritize solutions.\n",
      "* Consider the potential risks and benefits of each solution.\n",
      "\n",
      "Example: The student might evaluate the e-commerce website solutions as follows:\n",
      "- User experience: a clean and intuitive navigation menu is a high priority, but may be complex to implement.\n",
      "- User interface: a responsive design is a medium priority, but can be achieved with existing technologies.\n",
      "- Functionality: integrating payment gateways and shipping options is a high priority, but may require significant development time.\n",
      "- Technical requirements: using a scalable and secure framework is a high priority, but may require significant investment.\n",
      "\n",
      "**Step 4: Develop a Prototype (Create a Proof-of-Concept)**\n",
      "\n",
      "* Create a prototype or proof-of-concept to test the most promising solutions.\n",
      "* Use low-fidelity tools, such as wireframes or mockups, to create a basic representation of the solution.\n",
      "* Test the prototype with stakeholders and users to gather feedback.\n",
      "\n",
      "Example: The student might create a wireframe of the e-commerce website, including the navigation menu, responsive design, payment gateways, and shipping options.\n",
      "\n",
      "**Step 5: Refine and Iterate (Test and Refine)**\n",
      "\n",
      "* Use the feedback from the prototype testing to refine the solution.\n",
      "* Iterate on the solution, making adjustments and improvements as needed.\n",
      "* Continuously test and refine the solution until it meets the requirements and expectations.\n",
      "\n",
      "Example: Based on feedback from stakeholders and users, the student might refine the e-commerce website design, making adjustments to the navigation menu and layout, and implementing additional features, such as product recommendations and customer reviews.<|eot_id|>\n",
      "</knowledge>\n",
      "\n",
      "<task-context>\n",
      "Question: \\(\n",
      "x_{n+1}=5-\\frac{1}{x_{n}}\n",
      "\\)\n",
      "\n",
      "Using a starting value of \\( x_{1}=2 \\), what is the value of \\( x_{2} \\)?\n",
      "\n",
      "Incorrect Answer: \\( 2 \\)\n",
      "Correct Answer: \\( 4.5 \\)\n",
      "Construct Name: Carry out the first stage in an iteration solution\n",
      "Subject Name: Trial and Improvement and Iterative Methods\n",
      "</task-context>\n",
      "\n",
      "Your task: Identify the misconception behind Incorrect Answer. Answer concisely and generically inside <response>$$INSERT TEXT HERE$$</response>. Before answering the math question, think step by step concisely in 1-2 sentence inside <thinking>$$INSERT TEXT HERE$$</thinking> tag and respond your final misconception inside <response>$$INSERT TEXT HERE$$</response> tag.<|eot_id|><|start_header_id|>assistant<|end_header_id|>\n",
      "\n",
      "<response>\n",
      "The misconception behind the Incorrect Answer is that the given formula \\( x_{n+1}=5-\\frac{1}{x_{n}} \\) is not a recursive formula where each term depends on the previous term, but rather an iterative formula where each term is calculated based on the previous term. This means that to find the value of \\( x_{2} \\), we need to plug in the value of \\( x_{1} \\) into the formula to get \\( x_{2} \\), which is not simply \\( 5-\\frac{1}{x_{1}} \\).\n",
      "</response>\n",
      "\n",
      "<thinking>\n",
      "To find the value of \\( x_{2} \\), we need to use the given formula \\( x_{n+1}=5-\\frac{1}{x_{n}} \\) by plugging in the starting value \\( x_{1}=2 \\) to calculate \\( x_{2} \\).\n",
      "</thinking>\n",
      "\n",
      "<response>\n",
      "To find \\( x_{2} \\), we substitute \\( x_{1}=2 \\) into the formula: \\( x_{2}=5-\\frac{1}{2} \\). Solving this gives \\( x_{2}=4.5 \\).\n",
      "</response><|eot_id|>\n"
     ]
    }
   ],
   "source": [
    "print(df[\"FullResponse\"][0])"
   ]
  },
  {
   "cell_type": "code",
   "execution_count": null,
   "metadata": {},
   "outputs": [],
   "source": []
  },
  {
   "cell_type": "code",
   "execution_count": null,
   "metadata": {},
   "outputs": [],
   "source": []
  },
  {
   "cell_type": "code",
   "execution_count": 1,
   "metadata": {},
   "outputs": [
    {
     "name": "stderr",
     "output_type": "stream",
     "text": [
      "c:\\Users\\gamem\\mambaforge\\envs\\eedi\\lib\\site-packages\\sentence_transformers\\cross_encoder\\CrossEncoder.py:13: TqdmExperimentalWarning: Using `tqdm.autonotebook.tqdm` in notebook mode. Use `tqdm.tqdm` instead to force console mode (e.g. in jupyter console)\n",
      "  from tqdm.autonotebook import tqdm, trange\n"
     ]
    }
   ],
   "source": [
    "# imports\n",
    "import re\n",
    "\n",
    "import numpy as np\n",
    "import pandas as pd\n",
    "import torch\n",
    "from sentence_transformers import SentenceTransformer\n",
    "from sklearn.metrics.pairwise import cosine_similarity\n",
    "from transformers import AutoTokenizer, pipeline\n",
    "from sklearn.model_selection import train_test_split\n",
    "from tqdm.notebook import tqdm"
   ]
  },
  {
   "cell_type": "code",
   "execution_count": 2,
   "metadata": {},
   "outputs": [],
   "source": [
    "# constants\n",
    "eedi_train_csv = \"data/train.csv\"\n",
    "eedi_test_csv = \"data/test.csv\"\n",
    "eedi_miscon_csv = \"data/misconception_mapping.csv\"\n",
    "llm_model_id = \"meta-llama/Llama-3.2-1B-Instruct\"\n",
    "sbert_model_id = \"BAAI/bge-small-en-v1.5\"\n",
    "submission_csv = \"submission.csv\""
   ]
  },
  {
   "cell_type": "code",
   "execution_count": 3,
   "metadata": {},
   "outputs": [],
   "source": [
    "# quick util\n",
    "def dfpeek(title: str, df: pd.DataFrame) -> None:\n",
    "    print(\">>>>>>>>>>\", title, \">>>>>>>>>\")\n",
    "    display(df.head(1).transpose())\n",
    "    print(\"<<<<<<<<<<\", title, \"<<<<<<<<<<\", end=\"\\n\\n\")"
   ]
  },
  {
   "cell_type": "markdown",
   "metadata": {},
   "source": [
    "#### eedi_train_csv"
   ]
  },
  {
   "cell_type": "code",
   "execution_count": 4,
   "metadata": {},
   "outputs": [],
   "source": [
    "df = pd.read_csv(\n",
    "    eedi_train_csv,\n",
    "    dtype={\n",
    "        \"MisconceptionAId\": \"Int64\",\n",
    "        \"MisconceptionBId\": \"Int64\",\n",
    "        \"MisconceptionCId\": \"Int64\",\n",
    "        \"MisconceptionDId\": \"Int64\",\n",
    "    },\n",
    ").fillna(-1)"
   ]
  },
  {
   "cell_type": "code",
   "execution_count": 10,
   "metadata": {},
   "outputs": [
    {
     "data": {
      "text/html": [
       "<div>\n",
       "<style scoped>\n",
       "    .dataframe tbody tr th:only-of-type {\n",
       "        vertical-align: middle;\n",
       "    }\n",
       "\n",
       "    .dataframe tbody tr th {\n",
       "        vertical-align: top;\n",
       "    }\n",
       "\n",
       "    .dataframe thead th {\n",
       "        text-align: right;\n",
       "    }\n",
       "</style>\n",
       "<table border=\"1\" class=\"dataframe\">\n",
       "  <thead>\n",
       "    <tr style=\"text-align: right;\">\n",
       "      <th></th>\n",
       "      <th>ConstructName</th>\n",
       "      <th>SubjectName</th>\n",
       "      <th>QuestionText</th>\n",
       "    </tr>\n",
       "  </thead>\n",
       "  <tbody>\n",
       "    <tr>\n",
       "      <th>0</th>\n",
       "      <td>Use the order of operations to carry out calcu...</td>\n",
       "      <td>BIDMAS</td>\n",
       "      <td>\\[\\n3 \\times 2+4-5\\n\\]\\nWhere do the brackets ...</td>\n",
       "    </tr>\n",
       "    <tr>\n",
       "      <th>1</th>\n",
       "      <td>Simplify an algebraic fraction by factorising ...</td>\n",
       "      <td>Simplifying Algebraic Fractions</td>\n",
       "      <td>Simplify the following, if possible: \\( \\frac{...</td>\n",
       "    </tr>\n",
       "    <tr>\n",
       "      <th>2</th>\n",
       "      <td>Calculate the range from a list of data</td>\n",
       "      <td>Range and Interquartile Range from a List of Data</td>\n",
       "      <td>Tom and Katie are discussing the \\( 5 \\) plant...</td>\n",
       "    </tr>\n",
       "    <tr>\n",
       "      <th>3</th>\n",
       "      <td>Recall and use the intersecting diagonals prop...</td>\n",
       "      <td>Properties of Quadrilaterals</td>\n",
       "      <td>The angles highlighted on this rectangle with ...</td>\n",
       "    </tr>\n",
       "    <tr>\n",
       "      <th>4</th>\n",
       "      <td>Substitute positive integer values into formul...</td>\n",
       "      <td>Substitution into Formula</td>\n",
       "      <td>The equation \\( f=3 r^{2}+3 \\) is used to find...</td>\n",
       "    </tr>\n",
       "    <tr>\n",
       "      <th>...</th>\n",
       "      <td>...</td>\n",
       "      <td>...</td>\n",
       "      <td>...</td>\n",
       "    </tr>\n",
       "    <tr>\n",
       "      <th>1864</th>\n",
       "      <td>Calculate the range from a list of data</td>\n",
       "      <td>Range and Interquartile Range from a List of Data</td>\n",
       "      <td>What is the range of the following numbers?\\n\\...</td>\n",
       "    </tr>\n",
       "    <tr>\n",
       "      <th>1865</th>\n",
       "      <td>Describe an enlargement, with no centre of enl...</td>\n",
       "      <td>Length Scale Factors in Similar Shapes</td>\n",
       "      <td>Shape \\( Q \\) is an enlargement of shape \\( P ...</td>\n",
       "    </tr>\n",
       "    <tr>\n",
       "      <th>1866</th>\n",
       "      <td>Use the order of operations to carry out calcu...</td>\n",
       "      <td>BIDMAS</td>\n",
       "      <td>What does the following equal?\\n\\[\\n8-7+10 \\ti...</td>\n",
       "    </tr>\n",
       "    <tr>\n",
       "      <th>1867</th>\n",
       "      <td>Distinguish between congruency and similarity</td>\n",
       "      <td>Congruency in Other Shapes</td>\n",
       "      <td>Tom and Katie are discussing congruence and si...</td>\n",
       "    </tr>\n",
       "    <tr>\n",
       "      <th>1868</th>\n",
       "      <td>Describe a 90° or 270° rotation giving the ang...</td>\n",
       "      <td>Rotation</td>\n",
       "      <td>Jo and Paul are arguing about how to fully des...</td>\n",
       "    </tr>\n",
       "  </tbody>\n",
       "</table>\n",
       "<p>1869 rows × 3 columns</p>\n",
       "</div>"
      ],
      "text/plain": [
       "                                          ConstructName  \\\n",
       "0     Use the order of operations to carry out calcu...   \n",
       "1     Simplify an algebraic fraction by factorising ...   \n",
       "2               Calculate the range from a list of data   \n",
       "3     Recall and use the intersecting diagonals prop...   \n",
       "4     Substitute positive integer values into formul...   \n",
       "...                                                 ...   \n",
       "1864            Calculate the range from a list of data   \n",
       "1865  Describe an enlargement, with no centre of enl...   \n",
       "1866  Use the order of operations to carry out calcu...   \n",
       "1867      Distinguish between congruency and similarity   \n",
       "1868  Describe a 90° or 270° rotation giving the ang...   \n",
       "\n",
       "                                            SubjectName  \\\n",
       "0                                                BIDMAS   \n",
       "1                       Simplifying Algebraic Fractions   \n",
       "2     Range and Interquartile Range from a List of Data   \n",
       "3                          Properties of Quadrilaterals   \n",
       "4                             Substitution into Formula   \n",
       "...                                                 ...   \n",
       "1864  Range and Interquartile Range from a List of Data   \n",
       "1865             Length Scale Factors in Similar Shapes   \n",
       "1866                                             BIDMAS   \n",
       "1867                         Congruency in Other Shapes   \n",
       "1868                                           Rotation   \n",
       "\n",
       "                                           QuestionText  \n",
       "0     \\[\\n3 \\times 2+4-5\\n\\]\\nWhere do the brackets ...  \n",
       "1     Simplify the following, if possible: \\( \\frac{...  \n",
       "2     Tom and Katie are discussing the \\( 5 \\) plant...  \n",
       "3     The angles highlighted on this rectangle with ...  \n",
       "4     The equation \\( f=3 r^{2}+3 \\) is used to find...  \n",
       "...                                                 ...  \n",
       "1864  What is the range of the following numbers?\\n\\...  \n",
       "1865  Shape \\( Q \\) is an enlargement of shape \\( P ...  \n",
       "1866  What does the following equal?\\n\\[\\n8-7+10 \\ti...  \n",
       "1867  Tom and Katie are discussing congruence and si...  \n",
       "1868  Jo and Paul are arguing about how to fully des...  \n",
       "\n",
       "[1869 rows x 3 columns]"
      ]
     },
     "execution_count": 10,
     "metadata": {},
     "output_type": "execute_result"
    }
   ],
   "source": [
    "df[[\"ConstructName\", \"SubjectName\", \"QuestionText\"]]"
   ]
  },
  {
   "cell_type": "code",
   "execution_count": null,
   "metadata": {},
   "outputs": [],
   "source": [
    "df.head(1).transpose()"
   ]
  },
  {
   "cell_type": "code",
   "execution_count": null,
   "metadata": {},
   "outputs": [],
   "source": [
    "df.describe()"
   ]
  },
  {
   "cell_type": "markdown",
   "metadata": {},
   "source": [
    "#### eedi_miscon_csv"
   ]
  },
  {
   "cell_type": "code",
   "execution_count": null,
   "metadata": {},
   "outputs": [],
   "source": [
    "df = pd.read_csv(eedi_miscon_csv)"
   ]
  },
  {
   "cell_type": "code",
   "execution_count": null,
   "metadata": {},
   "outputs": [],
   "source": [
    "df.head(1).transpose()"
   ]
  },
  {
   "cell_type": "code",
   "execution_count": null,
   "metadata": {},
   "outputs": [],
   "source": [
    "df.describe()"
   ]
  },
  {
   "cell_type": "markdown",
   "metadata": {},
   "source": [
    "#### df_x and df_y"
   ]
  },
  {
   "cell_type": "code",
   "execution_count": null,
   "metadata": {},
   "outputs": [],
   "source": [
    "df_x = pd.read_parquet(\".intm/df_x.parquet\")\n",
    "df_y = pd.read_parquet(\".intm/df_y.parquet\")\n",
    "dfpeek(\"df_x\", df_x)\n",
    "dfpeek(\"df_y\", df_y)"
   ]
  },
  {
   "cell_type": "markdown",
   "metadata": {},
   "source": [
    "#### Prompts"
   ]
  },
  {
   "cell_type": "code",
   "execution_count": null,
   "metadata": {},
   "outputs": [],
   "source": [
    "df_prompts = pd.read_parquet(\"D:/Drive/school/sem1/CS5242/Project/eedi/.intm/b7d6ed11-7c6e-4e8a-af2a-49323e7c5032/df_prompt_train.parquet\")"
   ]
  },
  {
   "cell_type": "code",
   "execution_count": null,
   "metadata": {},
   "outputs": [],
   "source": [
    "dfpeek(\"df_prompts\", df_prompts)"
   ]
  },
  {
   "cell_type": "code",
   "execution_count": null,
   "metadata": {},
   "outputs": [],
   "source": [
    "tokenizer = AutoTokenizer.from_pretrained(llm_model_id)\n",
    "tokenizer.pad_token = tokenizer.eos_token"
   ]
  },
  {
   "cell_type": "code",
   "execution_count": null,
   "metadata": {},
   "outputs": [],
   "source": [
    "max([len(x) for x in df_prompts[\"Prompt\"].to_list()])"
   ]
  },
  {
   "cell_type": "code",
   "execution_count": null,
   "metadata": {},
   "outputs": [],
   "source": [
    "model_inputs = tokenizer(df_prompts[\"Prompt\"].to_list(), return_tensors=\"pt\", padding=\"max_length\")"
   ]
  },
  {
   "cell_type": "markdown",
   "metadata": {},
   "source": [
    "#### df_responses"
   ]
  },
  {
   "cell_type": "code",
   "execution_count": 7,
   "metadata": {},
   "outputs": [],
   "source": [
    "df_responses = pd.read_parquet(\"D:/Drive/school/sem1/CS5242/Project/eedi/.intm/be5e8e88-a441-4ae2-a37b-c7aae27ff5bc/df_responses.parquet\")"
   ]
  },
  {
   "cell_type": "code",
   "execution_count": 8,
   "metadata": {},
   "outputs": [
    {
     "name": "stdout",
     "output_type": "stream",
     "text": [
      ">>>>>>>>>> df_responses >>>>>>>>>\n"
     ]
    },
    {
     "data": {
      "text/html": [
       "<div>\n",
       "<style scoped>\n",
       "    .dataframe tbody tr th:only-of-type {\n",
       "        vertical-align: middle;\n",
       "    }\n",
       "\n",
       "    .dataframe tbody tr th {\n",
       "        vertical-align: top;\n",
       "    }\n",
       "\n",
       "    .dataframe thead th {\n",
       "        text-align: right;\n",
       "    }\n",
       "</style>\n",
       "<table border=\"1\" class=\"dataframe\">\n",
       "  <thead>\n",
       "    <tr style=\"text-align: right;\">\n",
       "      <th></th>\n",
       "      <th>0</th>\n",
       "    </tr>\n",
       "  </thead>\n",
       "  <tbody>\n",
       "    <tr>\n",
       "      <th>QuestionId_Answer</th>\n",
       "      <td>824_C</td>\n",
       "    </tr>\n",
       "    <tr>\n",
       "      <th>Prompt</th>\n",
       "      <td>&lt;|begin_of_text|&gt;&lt;|start_header_id|&gt;system&lt;|en...</td>\n",
       "    </tr>\n",
       "    <tr>\n",
       "      <th>FullResponse</th>\n",
       "      <td>system\\n\\nCutting Knowledge Date: December 202...</td>\n",
       "    </tr>\n",
       "    <tr>\n",
       "      <th>Misconception</th>\n",
       "      <td>$$INSERT TEXT HERE$$ $$INSERT TEXT HERE$$</td>\n",
       "    </tr>\n",
       "  </tbody>\n",
       "</table>\n",
       "</div>"
      ],
      "text/plain": [
       "                                                                   0\n",
       "QuestionId_Answer                                              824_C\n",
       "Prompt             <|begin_of_text|><|start_header_id|>system<|en...\n",
       "FullResponse       system\\n\\nCutting Knowledge Date: December 202...\n",
       "Misconception              $$INSERT TEXT HERE$$ $$INSERT TEXT HERE$$"
      ]
     },
     "metadata": {},
     "output_type": "display_data"
    },
    {
     "name": "stdout",
     "output_type": "stream",
     "text": [
      "<<<<<<<<<< df_responses <<<<<<<<<<\n",
      "\n"
     ]
    }
   ],
   "source": [
    "dfpeek(\"df_responses\", df_responses)"
   ]
  },
  {
   "cell_type": "code",
   "execution_count": null,
   "metadata": {},
   "outputs": [],
   "source": []
  }
 ],
 "metadata": {
  "kernelspec": {
   "display_name": "nn",
   "language": "python",
   "name": "python3"
  },
  "language_info": {
   "codemirror_mode": {
    "name": "ipython",
    "version": 3
   },
   "file_extension": ".py",
   "mimetype": "text/x-python",
   "name": "python",
   "nbconvert_exporter": "python",
   "pygments_lexer": "ipython3",
   "version": "3.10.15"
  }
 },
 "nbformat": 4,
 "nbformat_minor": 2
}
