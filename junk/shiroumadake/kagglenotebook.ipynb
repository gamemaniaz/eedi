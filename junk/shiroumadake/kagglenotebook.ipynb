{
 "cells": [
  {
   "cell_type": "code",
   "execution_count": null,
   "metadata": {},
   "outputs": [],
   "source": [
    "from pathlib import Path"
   ]
  },
  {
   "cell_type": "code",
   "execution_count": null,
   "metadata": {},
   "outputs": [],
   "source": [
    "# kaggle inputs\n",
    "train_csv = Path(\"/kaggle/input/eedi-mining-misconceptions-in-mathematics/train.csv\")\n",
    "test_csv = Path(\"/kaggle/input/eedi-mining-misconceptions-in-mathematics/test.csv\")\n",
    "miscon_csv = Path(\"/kaggle/input/eedi-mining-misconceptions-in-mathematics/misconception_mapping.csv\")\n",
    "sample_sub_csv = Path(\"/kaggle/input/eedi-mining-misconceptions-in-mathematics/sample_submission.csv\")"
   ]
  },
  {
   "cell_type": "code",
   "execution_count": null,
   "metadata": {},
   "outputs": [],
   "source": []
  }
 ],
 "metadata": {
  "kernelspec": {
   "display_name": "eedi",
   "language": "python",
   "name": "python3"
  },
  "language_info": {
   "name": "python",
   "version": "3.10.15"
  }
 },
 "nbformat": 4,
 "nbformat_minor": 2
}
