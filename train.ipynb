{
 "cells": [
  {
   "cell_type": "code",
   "execution_count": 1,
   "metadata": {
    "execution": {
     "iopub.execute_input": "2024-11-01T05:44:44.779996Z",
     "iopub.status.busy": "2024-11-01T05:44:44.779539Z",
     "iopub.status.idle": "2024-11-01T05:44:55.770565Z",
     "shell.execute_reply": "2024-11-01T05:44:55.769828Z"
    }
   },
   "outputs": [
    {
     "name": "stderr",
     "output_type": "stream",
     "text": [
      "/home/t/tienkhoa/miniconda3/envs/cs5242/lib/python3.10/site-packages/sentence_transformers/cross_encoder/CrossEncoder.py:13: TqdmExperimentalWarning: Using `tqdm.autonotebook.tqdm` in notebook mode. Use `tqdm.tqdm` instead to force console mode (e.g. in jupyter console)\n",
      "  from tqdm.autonotebook import tqdm, trange\n"
     ]
    }
   ],
   "source": [
    "import pandas as pd\n",
    "import numpy as np\n",
    "from sentence_transformers import SentenceTransformer, InputExample, SentenceTransformerTrainer, SentenceTransformerTrainingArguments\n",
    "from sentence_transformers.losses import MultipleNegativesRankingLoss\n",
    "from sentence_transformers.training_args import BatchSamplers\n",
    "from datasets import Dataset\n",
    "from sklearn.metrics.pairwise import cosine_similarity"
   ]
  },
  {
   "cell_type": "code",
   "execution_count": 2,
   "metadata": {
    "execution": {
     "iopub.execute_input": "2024-11-01T05:44:55.773843Z",
     "iopub.status.busy": "2024-11-01T05:44:55.773245Z",
     "iopub.status.idle": "2024-11-01T05:44:55.809541Z",
     "shell.execute_reply": "2024-11-01T05:44:55.809065Z"
    }
   },
   "outputs": [],
   "source": [
    "DATA_PATH = 'dataset'\n",
    "MODEL_NAME = 'BAAI/bge-large-en-v1.5'\n",
    "RETRIEVE_NUM = 25\n",
    "\n",
    "BATCH_SIZE = 128\n",
    "EPOCH = 2\n",
    "LR = 2e-05\n",
    "GRAD_ACC_STEP = 128 // BATCH_SIZE\n",
    "\n",
    "MODEL_OUTPUT_PATH = 'model/'\n",
    "\n",
    "train = pd.read_csv(f\"{DATA_PATH}/train.csv\")\n",
    "misconception_mapping = pd.read_csv(f\"{DATA_PATH}/misconception_mapping.csv\")"
   ]
  },
  {
   "cell_type": "code",
   "execution_count": 3,
   "metadata": {
    "execution": {
     "iopub.execute_input": "2024-11-01T05:44:55.811401Z",
     "iopub.status.busy": "2024-11-01T05:44:55.811278Z",
     "iopub.status.idle": "2024-11-01T05:44:55.838008Z",
     "shell.execute_reply": "2024-11-01T05:44:55.837405Z"
    }
   },
   "outputs": [],
   "source": [
    "common_col = [\n",
    "    \"QuestionId\",\n",
    "    \"ConstructName\",\n",
    "    \"SubjectName\",\n",
    "    \"QuestionText\",\n",
    "    \"CorrectAnswer\",\n",
    "]\n",
    "\n",
    "train_long = (\n",
    "    train[common_col + [f\"Answer{alpha}Text\" for alpha in [\"A\", \"B\", \"C\", \"D\"]]]\n",
    "    .melt(\n",
    "        id_vars=common_col,\n",
    "        value_vars=[f\"Answer{alpha}Text\" for alpha in [\"A\", \"B\", \"C\", \"D\"]],\n",
    "        var_name=\"AnswerType\",\n",
    "        value_name=\"AnswerText\"\n",
    "    )\n",
    ")\n",
    "train_long[\"AllText\"] = train_long[\"ConstructName\"] + \" \" + train_long[\"SubjectName\"] + \" \" + train_long[\"QuestionText\"] + \" \" + train_long[\"AnswerText\"]\n",
    "train_long[\"AnswerAlphabet\"] = train_long[\"AnswerType\"].str.extract(r\"Answer([A-D])Text$\")\n",
    "train_long[\"QuestionId_Answer\"] = train_long[\"QuestionId\"].astype(str) + \"_\" + train_long[\"AnswerAlphabet\"]\n",
    "\n",
    "# Convert the misconceptions data to long format\n",
    "train_misconception_long = (\n",
    "    train[common_col + [f\"Misconception{alpha}Id\" for alpha in [\"A\", \"B\", \"C\", \"D\"]]]\n",
    "    .melt(\n",
    "        id_vars=common_col,\n",
    "        value_vars=[f\"Misconception{alpha}Id\" for alpha in [\"A\", \"B\", \"C\", \"D\"]],\n",
    "        var_name=\"MisconceptionType\",\n",
    "        value_name=\"MisconceptionId\"\n",
    "    )\n",
    ")\n",
    "train_misconception_long[\"AnswerAlphabet\"] = train_misconception_long[\"MisconceptionType\"].str.extract(r\"Misconception([A-D])Id$\")\n",
    "train_misconception_long[\"QuestionId_Answer\"] = train_misconception_long[\"QuestionId\"].astype(str) + \"_\" + train_misconception_long[\"AnswerAlphabet\"]\n",
    "train_misconception_long = train_misconception_long[[\"QuestionId_Answer\", \"MisconceptionId\"]].dropna()\n",
    "\n",
    "# Join the misconceptions with the long format train data\n",
    "train_long = train_long.merge(train_misconception_long, on=\"QuestionId_Answer\", how=\"inner\")"
   ]
  },
  {
   "cell_type": "code",
   "execution_count": 4,
   "metadata": {
    "execution": {
     "iopub.execute_input": "2024-11-01T05:44:55.839777Z",
     "iopub.status.busy": "2024-11-01T05:44:55.839476Z",
     "iopub.status.idle": "2024-11-01T05:45:11.121416Z",
     "shell.execute_reply": "2024-11-01T05:45:11.120875Z"
    }
   },
   "outputs": [],
   "source": [
    "model = SentenceTransformer(MODEL_NAME)\n",
    "\n",
    "# Compute embeddings for training data and misconception names\n",
    "train_long_vec = model.encode(train_long[\"AllText\"].tolist(), normalize_embeddings=True)\n",
    "misconception_mapping_vec = model.encode(misconception_mapping[\"MisconceptionName\"].tolist(), normalize_embeddings=True)\n",
    "\n",
    "# Calculate cosine similarity between each train sample and each misconception\n",
    "train_cos_sim_arr = cosine_similarity(train_long_vec, misconception_mapping_vec)\n",
    "train_sorted_indices = np.argsort(-train_cos_sim_arr, axis=1)\n",
    "\n",
    "# Retrieve top misconceptions based on similarity scores\n",
    "train_long[\"PredictMisconceptionId\"] = train_sorted_indices[:, :RETRIEVE_NUM].tolist()\n",
    "\n",
    "# Explode to create positive and negative pairs\n",
    "train_long_exploded = train_long.explode(\"PredictMisconceptionId\")\n",
    "train_long_exploded[\"PredictMisconceptionId\"] = train_long_exploded[\"PredictMisconceptionId\"].astype(int)\n",
    "\n",
    "# Merge to obtain names for positive and negative pairs\n",
    "train_retrieved = train_long_exploded.merge(misconception_mapping, left_on=\"MisconceptionId\", right_on=\"MisconceptionId\", how=\"left\")\n",
    "train_retrieved = train_retrieved.merge(misconception_mapping, left_on=\"PredictMisconceptionId\", right_on=\"MisconceptionId\", suffixes=(\"\", \"_predict\"))"
   ]
  },
  {
   "cell_type": "code",
   "execution_count": 5,
   "metadata": {
    "execution": {
     "iopub.execute_input": "2024-11-01T05:45:11.123862Z",
     "iopub.status.busy": "2024-11-01T05:45:11.123730Z",
     "iopub.status.idle": "2024-11-01T05:45:13.785926Z",
     "shell.execute_reply": "2024-11-01T05:45:13.785552Z"
    }
   },
   "outputs": [],
   "source": [
    "input_examples = []\n",
    "for _, row in train_retrieved.iterrows():\n",
    "    label = 1.0 if row[\"MisconceptionId\"] == row[\"PredictMisconceptionId\"] else 0.0\n",
    "    input_examples.append(InputExample(texts=[row[\"AllText\"], row[\"MisconceptionName\"], row[\"MisconceptionName_predict\"]], label=label))\n",
    "\n",
    "train_dataset = Dataset.from_dict({\n",
    "    \"AllText\": [ex.texts[0] for ex in input_examples],\n",
    "    \"MisconceptionName\": [ex.texts[1] for ex in input_examples],\n",
    "    \"MisconceptionName_predict\": [ex.texts[2] for ex in input_examples]\n",
    "})"
   ]
  },
  {
   "cell_type": "code",
   "execution_count": 6,
   "metadata": {
    "execution": {
     "iopub.execute_input": "2024-11-01T05:45:13.789791Z",
     "iopub.status.busy": "2024-11-01T05:45:13.789656Z",
     "iopub.status.idle": "2024-11-01T05:45:13.793487Z",
     "shell.execute_reply": "2024-11-01T05:45:13.793209Z"
    }
   },
   "outputs": [
    {
     "data": {
      "text/plain": [
       "Dataset({\n",
       "    features: ['AllText', 'MisconceptionName', 'MisconceptionName_predict'],\n",
       "    num_rows: 98300\n",
       "})"
      ]
     },
     "execution_count": 6,
     "metadata": {},
     "output_type": "execute_result"
    }
   ],
   "source": [
    "train_dataset"
   ]
  },
  {
   "cell_type": "code",
   "execution_count": 7,
   "metadata": {
    "execution": {
     "iopub.execute_input": "2024-11-01T05:45:13.797311Z",
     "iopub.status.busy": "2024-11-01T05:45:13.797195Z",
     "iopub.status.idle": "2024-11-01T05:56:02.946152Z",
     "shell.execute_reply": "2024-11-01T05:56:02.945376Z"
    }
   },
   "outputs": [
    {
     "data": {
      "text/html": [
       "\n",
       "    <div>\n",
       "      \n",
       "      <progress value='1536' max='1536' style='width:300px; height:20px; vertical-align: middle;'></progress>\n",
       "      [1536/1536 10:39, Epoch 1/2]\n",
       "    </div>\n",
       "    <table border=\"1\" class=\"dataframe\">\n",
       "  <thead>\n",
       " <tr style=\"text-align: left;\">\n",
       "      <th>Step</th>\n",
       "      <th>Training Loss</th>\n",
       "    </tr>\n",
       "  </thead>\n",
       "  <tbody>\n",
       "    <tr>\n",
       "      <td>100</td>\n",
       "      <td>2.141200</td>\n",
       "    </tr>\n",
       "    <tr>\n",
       "      <td>200</td>\n",
       "      <td>0.839600</td>\n",
       "    </tr>\n",
       "    <tr>\n",
       "      <td>300</td>\n",
       "      <td>0.693600</td>\n",
       "    </tr>\n",
       "    <tr>\n",
       "      <td>400</td>\n",
       "      <td>0.596600</td>\n",
       "    </tr>\n",
       "    <tr>\n",
       "      <td>500</td>\n",
       "      <td>0.540100</td>\n",
       "    </tr>\n",
       "    <tr>\n",
       "      <td>600</td>\n",
       "      <td>0.564300</td>\n",
       "    </tr>\n",
       "    <tr>\n",
       "      <td>700</td>\n",
       "      <td>0.619100</td>\n",
       "    </tr>\n",
       "    <tr>\n",
       "      <td>800</td>\n",
       "      <td>0.508400</td>\n",
       "    </tr>\n",
       "    <tr>\n",
       "      <td>900</td>\n",
       "      <td>0.295300</td>\n",
       "    </tr>\n",
       "    <tr>\n",
       "      <td>1000</td>\n",
       "      <td>0.224000</td>\n",
       "    </tr>\n",
       "    <tr>\n",
       "      <td>1100</td>\n",
       "      <td>0.086900</td>\n",
       "    </tr>\n",
       "    <tr>\n",
       "      <td>1200</td>\n",
       "      <td>0.114000</td>\n",
       "    </tr>\n",
       "    <tr>\n",
       "      <td>1300</td>\n",
       "      <td>1.171700</td>\n",
       "    </tr>\n",
       "    <tr>\n",
       "      <td>1400</td>\n",
       "      <td>0.974000</td>\n",
       "    </tr>\n",
       "    <tr>\n",
       "      <td>1500</td>\n",
       "      <td>1.036700</td>\n",
       "    </tr>\n",
       "  </tbody>\n",
       "</table><p>"
      ],
      "text/plain": [
       "<IPython.core.display.HTML object>"
      ]
     },
     "metadata": {},
     "output_type": "display_data"
    },
    {
     "data": {
      "application/vnd.jupyter.widget-view+json": {
       "model_id": "3fde4c2adb524a90957c63231c8b428e",
       "version_major": 2,
       "version_minor": 0
      },
      "text/plain": [
       "Computing widget examples:   0%|          | 0/1 [00:00<?, ?example/s]"
      ]
     },
     "metadata": {},
     "output_type": "display_data"
    }
   ],
   "source": [
    "model = SentenceTransformer(MODEL_NAME)\n",
    "\n",
    "loss = MultipleNegativesRankingLoss(model)\n",
    "\n",
    "args = SentenceTransformerTrainingArguments(\n",
    "    output_dir=MODEL_OUTPUT_PATH,\n",
    "    num_train_epochs=EPOCH,\n",
    "    per_device_train_batch_size=BATCH_SIZE,\n",
    "    gradient_accumulation_steps=GRAD_ACC_STEP,\n",
    "    per_device_eval_batch_size=BATCH_SIZE,\n",
    "    eval_accumulation_steps=GRAD_ACC_STEP,\n",
    "    learning_rate=LR,\n",
    "    weight_decay=0.01,\n",
    "    warmup_ratio=0.1,\n",
    "    fp16=True,\n",
    "    bf16=False,\n",
    "    batch_sampler=BatchSamplers.NO_DUPLICATES,\n",
    "    lr_scheduler_type=\"cosine_with_restarts\",\n",
    "    save_strategy=\"steps\",\n",
    "    save_steps=0.1,\n",
    "    save_total_limit=2,\n",
    "    logging_steps=100,\n",
    "    do_eval=False\n",
    ")\n",
    "\n",
    "trainer = SentenceTransformerTrainer(\n",
    "    model=model,\n",
    "    args=args,\n",
    "    train_dataset=train_dataset,\n",
    "    loss=loss\n",
    ")\n",
    "\n",
    "trainer.train()\n",
    "model.save_pretrained(MODEL_OUTPUT_PATH)"
   ]
  }
 ],
 "metadata": {
  "kernelspec": {
   "display_name": "cs5242",
   "language": "python",
   "name": "python3"
  },
  "language_info": {
   "codemirror_mode": {
    "name": "ipython",
    "version": 3
   },
   "file_extension": ".py",
   "mimetype": "text/x-python",
   "name": "python",
   "nbconvert_exporter": "python",
   "pygments_lexer": "ipython3",
   "version": "3.10.13"
  },
  "widgets": {
   "application/vnd.jupyter.widget-state+json": {
    "state": {
     "147581b31e514c6884f0e9c6f5f7cf33": {
      "model_module": "@jupyter-widgets/controls",
      "model_module_version": "2.0.0",
      "model_name": "HTMLModel",
      "state": {
       "_dom_classes": [],
       "_model_module": "@jupyter-widgets/controls",
       "_model_module_version": "2.0.0",
       "_model_name": "HTMLModel",
       "_view_count": null,
       "_view_module": "@jupyter-widgets/controls",
       "_view_module_version": "2.0.0",
       "_view_name": "HTMLView",
       "description": "",
       "description_allow_html": false,
       "layout": "IPY_MODEL_16e6c873e929442890f9fe15885875c3",
       "placeholder": "​",
       "style": "IPY_MODEL_9010825a5d25449fb1fa28e3441b6beb",
       "tabbable": null,
       "tooltip": null,
       "value": " 0/1 [00:00&lt;?, ?example/s]"
      }
     },
     "15099c332d8b46c7b2431e5700cdbac1": {
      "model_module": "@jupyter-widgets/controls",
      "model_module_version": "2.0.0",
      "model_name": "HTMLModel",
      "state": {
       "_dom_classes": [],
       "_model_module": "@jupyter-widgets/controls",
       "_model_module_version": "2.0.0",
       "_model_name": "HTMLModel",
       "_view_count": null,
       "_view_module": "@jupyter-widgets/controls",
       "_view_module_version": "2.0.0",
       "_view_name": "HTMLView",
       "description": "",
       "description_allow_html": false,
       "layout": "IPY_MODEL_6c1c82ad914b436ba74fedd7143b9dc7",
       "placeholder": "​",
       "style": "IPY_MODEL_d7d5f6c16d8743e681a37be634d121f2",
       "tabbable": null,
       "tooltip": null,
       "value": "Computing widget examples:   0%"
      }
     },
     "16e6c873e929442890f9fe15885875c3": {
      "model_module": "@jupyter-widgets/base",
      "model_module_version": "2.0.0",
      "model_name": "LayoutModel",
      "state": {
       "_model_module": "@jupyter-widgets/base",
       "_model_module_version": "2.0.0",
       "_model_name": "LayoutModel",
       "_view_count": null,
       "_view_module": "@jupyter-widgets/base",
       "_view_module_version": "2.0.0",
       "_view_name": "LayoutView",
       "align_content": null,
       "align_items": null,
       "align_self": null,
       "border_bottom": null,
       "border_left": null,
       "border_right": null,
       "border_top": null,
       "bottom": null,
       "display": null,
       "flex": null,
       "flex_flow": null,
       "grid_area": null,
       "grid_auto_columns": null,
       "grid_auto_flow": null,
       "grid_auto_rows": null,
       "grid_column": null,
       "grid_gap": null,
       "grid_row": null,
       "grid_template_areas": null,
       "grid_template_columns": null,
       "grid_template_rows": null,
       "height": null,
       "justify_content": null,
       "justify_items": null,
       "left": null,
       "margin": null,
       "max_height": null,
       "max_width": null,
       "min_height": null,
       "min_width": null,
       "object_fit": null,
       "object_position": null,
       "order": null,
       "overflow": null,
       "padding": null,
       "right": null,
       "top": null,
       "visibility": null,
       "width": null
      }
     },
     "3fde4c2adb524a90957c63231c8b428e": {
      "model_module": "@jupyter-widgets/controls",
      "model_module_version": "2.0.0",
      "model_name": "HBoxModel",
      "state": {
       "_dom_classes": [],
       "_model_module": "@jupyter-widgets/controls",
       "_model_module_version": "2.0.0",
       "_model_name": "HBoxModel",
       "_view_count": null,
       "_view_module": "@jupyter-widgets/controls",
       "_view_module_version": "2.0.0",
       "_view_name": "HBoxView",
       "box_style": "",
       "children": [
        "IPY_MODEL_15099c332d8b46c7b2431e5700cdbac1",
        "IPY_MODEL_eff844c29a5440799ebd70cbf5b4ede3",
        "IPY_MODEL_147581b31e514c6884f0e9c6f5f7cf33"
       ],
       "layout": "IPY_MODEL_8e8b0931a95b43f6be2ec71805c4808b",
       "tabbable": null,
       "tooltip": null
      }
     },
     "6c1c82ad914b436ba74fedd7143b9dc7": {
      "model_module": "@jupyter-widgets/base",
      "model_module_version": "2.0.0",
      "model_name": "LayoutModel",
      "state": {
       "_model_module": "@jupyter-widgets/base",
       "_model_module_version": "2.0.0",
       "_model_name": "LayoutModel",
       "_view_count": null,
       "_view_module": "@jupyter-widgets/base",
       "_view_module_version": "2.0.0",
       "_view_name": "LayoutView",
       "align_content": null,
       "align_items": null,
       "align_self": null,
       "border_bottom": null,
       "border_left": null,
       "border_right": null,
       "border_top": null,
       "bottom": null,
       "display": null,
       "flex": null,
       "flex_flow": null,
       "grid_area": null,
       "grid_auto_columns": null,
       "grid_auto_flow": null,
       "grid_auto_rows": null,
       "grid_column": null,
       "grid_gap": null,
       "grid_row": null,
       "grid_template_areas": null,
       "grid_template_columns": null,
       "grid_template_rows": null,
       "height": null,
       "justify_content": null,
       "justify_items": null,
       "left": null,
       "margin": null,
       "max_height": null,
       "max_width": null,
       "min_height": null,
       "min_width": null,
       "object_fit": null,
       "object_position": null,
       "order": null,
       "overflow": null,
       "padding": null,
       "right": null,
       "top": null,
       "visibility": null,
       "width": null
      }
     },
     "8e8b0931a95b43f6be2ec71805c4808b": {
      "model_module": "@jupyter-widgets/base",
      "model_module_version": "2.0.0",
      "model_name": "LayoutModel",
      "state": {
       "_model_module": "@jupyter-widgets/base",
       "_model_module_version": "2.0.0",
       "_model_name": "LayoutModel",
       "_view_count": null,
       "_view_module": "@jupyter-widgets/base",
       "_view_module_version": "2.0.0",
       "_view_name": "LayoutView",
       "align_content": null,
       "align_items": null,
       "align_self": null,
       "border_bottom": null,
       "border_left": null,
       "border_right": null,
       "border_top": null,
       "bottom": null,
       "display": null,
       "flex": null,
       "flex_flow": null,
       "grid_area": null,
       "grid_auto_columns": null,
       "grid_auto_flow": null,
       "grid_auto_rows": null,
       "grid_column": null,
       "grid_gap": null,
       "grid_row": null,
       "grid_template_areas": null,
       "grid_template_columns": null,
       "grid_template_rows": null,
       "height": null,
       "justify_content": null,
       "justify_items": null,
       "left": null,
       "margin": null,
       "max_height": null,
       "max_width": null,
       "min_height": null,
       "min_width": null,
       "object_fit": null,
       "object_position": null,
       "order": null,
       "overflow": null,
       "padding": null,
       "right": null,
       "top": null,
       "visibility": "hidden",
       "width": null
      }
     },
     "9010825a5d25449fb1fa28e3441b6beb": {
      "model_module": "@jupyter-widgets/controls",
      "model_module_version": "2.0.0",
      "model_name": "HTMLStyleModel",
      "state": {
       "_model_module": "@jupyter-widgets/controls",
       "_model_module_version": "2.0.0",
       "_model_name": "HTMLStyleModel",
       "_view_count": null,
       "_view_module": "@jupyter-widgets/base",
       "_view_module_version": "2.0.0",
       "_view_name": "StyleView",
       "background": null,
       "description_width": "",
       "font_size": null,
       "text_color": null
      }
     },
     "a02f02de2f1e4469ab3cfad8ed8518d8": {
      "model_module": "@jupyter-widgets/base",
      "model_module_version": "2.0.0",
      "model_name": "LayoutModel",
      "state": {
       "_model_module": "@jupyter-widgets/base",
       "_model_module_version": "2.0.0",
       "_model_name": "LayoutModel",
       "_view_count": null,
       "_view_module": "@jupyter-widgets/base",
       "_view_module_version": "2.0.0",
       "_view_name": "LayoutView",
       "align_content": null,
       "align_items": null,
       "align_self": null,
       "border_bottom": null,
       "border_left": null,
       "border_right": null,
       "border_top": null,
       "bottom": null,
       "display": null,
       "flex": null,
       "flex_flow": null,
       "grid_area": null,
       "grid_auto_columns": null,
       "grid_auto_flow": null,
       "grid_auto_rows": null,
       "grid_column": null,
       "grid_gap": null,
       "grid_row": null,
       "grid_template_areas": null,
       "grid_template_columns": null,
       "grid_template_rows": null,
       "height": null,
       "justify_content": null,
       "justify_items": null,
       "left": null,
       "margin": null,
       "max_height": null,
       "max_width": null,
       "min_height": null,
       "min_width": null,
       "object_fit": null,
       "object_position": null,
       "order": null,
       "overflow": null,
       "padding": null,
       "right": null,
       "top": null,
       "visibility": null,
       "width": null
      }
     },
     "c6e27eb2275d4071a0a1b7891bb401c1": {
      "model_module": "@jupyter-widgets/controls",
      "model_module_version": "2.0.0",
      "model_name": "ProgressStyleModel",
      "state": {
       "_model_module": "@jupyter-widgets/controls",
       "_model_module_version": "2.0.0",
       "_model_name": "ProgressStyleModel",
       "_view_count": null,
       "_view_module": "@jupyter-widgets/base",
       "_view_module_version": "2.0.0",
       "_view_name": "StyleView",
       "bar_color": null,
       "description_width": ""
      }
     },
     "d7d5f6c16d8743e681a37be634d121f2": {
      "model_module": "@jupyter-widgets/controls",
      "model_module_version": "2.0.0",
      "model_name": "HTMLStyleModel",
      "state": {
       "_model_module": "@jupyter-widgets/controls",
       "_model_module_version": "2.0.0",
       "_model_name": "HTMLStyleModel",
       "_view_count": null,
       "_view_module": "@jupyter-widgets/base",
       "_view_module_version": "2.0.0",
       "_view_name": "StyleView",
       "background": null,
       "description_width": "",
       "font_size": null,
       "text_color": null
      }
     },
     "eff844c29a5440799ebd70cbf5b4ede3": {
      "model_module": "@jupyter-widgets/controls",
      "model_module_version": "2.0.0",
      "model_name": "FloatProgressModel",
      "state": {
       "_dom_classes": [],
       "_model_module": "@jupyter-widgets/controls",
       "_model_module_version": "2.0.0",
       "_model_name": "FloatProgressModel",
       "_view_count": null,
       "_view_module": "@jupyter-widgets/controls",
       "_view_module_version": "2.0.0",
       "_view_name": "ProgressView",
       "bar_style": "",
       "description": "",
       "description_allow_html": false,
       "layout": "IPY_MODEL_a02f02de2f1e4469ab3cfad8ed8518d8",
       "max": 1.0,
       "min": 0.0,
       "orientation": "horizontal",
       "style": "IPY_MODEL_c6e27eb2275d4071a0a1b7891bb401c1",
       "tabbable": null,
       "tooltip": null,
       "value": 1.0
      }
     }
    },
    "version_major": 2,
    "version_minor": 0
   }
  }
 },
 "nbformat": 4,
 "nbformat_minor": 2
}
