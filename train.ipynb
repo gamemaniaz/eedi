{
 "cells": [
  {
   "cell_type": "code",
   "execution_count": null,
   "metadata": {},
   "outputs": [
    {
     "name": "stderr",
     "output_type": "stream",
     "text": [
      "/home/admin1/miniconda3/envs/cs5242/lib/python3.10/site-packages/sentence_transformers/cross_encoder/CrossEncoder.py:13: TqdmExperimentalWarning: Using `tqdm.autonotebook.tqdm` in notebook mode. Use `tqdm.tqdm` instead to force console mode (e.g. in jupyter console)\n",
      "  from tqdm.autonotebook import tqdm, trange\n"
     ]
    }
   ],
   "source": [
    "import pandas as pd\n",
    "import numpy as np\n",
    "from sentence_transformers import SentenceTransformer, InputExample, SentenceTransformerTrainer, SentenceTransformerTrainingArguments\n",
    "from sentence_transformers.losses import MultipleNegativesRankingLoss\n",
    "from sentence_transformers.training_args import BatchSamplers\n",
    "from datasets import Dataset\n",
    "from sklearn.metrics.pairwise import cosine_similarity"
   ]
  },
  {
   "cell_type": "code",
   "execution_count": null,
   "metadata": {},
   "outputs": [],
   "source": [
    "DATA_PATH = 'dataset'\n",
    "MODEL_NAME = 'BAAI/bge-large-en-v1.5'\n",
    "RETRIEVE_NUM = 25\n",
    "\n",
    "BATCH_SIZE = 128\n",
    "EPOCH = 2\n",
    "LR = 2e-05\n",
    "GRAD_ACC_STEP = 128 // BATCH_SIZE\n",
    "\n",
    "MODEL_OUTPUT_PATH = 'model/'\n",
    "\n",
    "train = pd.read_csv(f\"{DATA_PATH}/train.csv\")\n",
    "misconception_mapping = pd.read_csv(f\"{DATA_PATH}/misconception_mapping.csv\")"
   ]
  },
  {
   "cell_type": "code",
   "execution_count": 3,
   "metadata": {},
   "outputs": [],
   "source": [
    "common_col = [\n",
    "    \"QuestionId\",\n",
    "    \"ConstructName\",\n",
    "    \"SubjectName\",\n",
    "    \"QuestionText\",\n",
    "    \"CorrectAnswer\",\n",
    "]\n",
    "\n",
    "train_long = (\n",
    "    train[common_col + [f\"Answer{alpha}Text\" for alpha in [\"A\", \"B\", \"C\", \"D\"]]]\n",
    "    .melt(\n",
    "        id_vars=common_col,\n",
    "        value_vars=[f\"Answer{alpha}Text\" for alpha in [\"A\", \"B\", \"C\", \"D\"]],\n",
    "        var_name=\"AnswerType\",\n",
    "        value_name=\"AnswerText\"\n",
    "    )\n",
    ")\n",
    "train_long[\"AllText\"] = train_long[\"ConstructName\"] + \" \" + train_long[\"SubjectName\"] + \" \" + train_long[\"QuestionText\"] + \" \" + train_long[\"AnswerText\"]\n",
    "train_long[\"AnswerAlphabet\"] = train_long[\"AnswerType\"].str.extract(r\"Answer([A-D])Text$\")\n",
    "train_long[\"QuestionId_Answer\"] = train_long[\"QuestionId\"].astype(str) + \"_\" + train_long[\"AnswerAlphabet\"]\n",
    "\n",
    "# Convert the misconceptions data to long format\n",
    "train_misconception_long = (\n",
    "    train[common_col + [f\"Misconception{alpha}Id\" for alpha in [\"A\", \"B\", \"C\", \"D\"]]]\n",
    "    .melt(\n",
    "        id_vars=common_col,\n",
    "        value_vars=[f\"Misconception{alpha}Id\" for alpha in [\"A\", \"B\", \"C\", \"D\"]],\n",
    "        var_name=\"MisconceptionType\",\n",
    "        value_name=\"MisconceptionId\"\n",
    "    )\n",
    ")\n",
    "train_misconception_long[\"AnswerAlphabet\"] = train_misconception_long[\"MisconceptionType\"].str.extract(r\"Misconception([A-D])Id$\")\n",
    "train_misconception_long[\"QuestionId_Answer\"] = train_misconception_long[\"QuestionId\"].astype(str) + \"_\" + train_misconception_long[\"AnswerAlphabet\"]\n",
    "train_misconception_long = train_misconception_long[[\"QuestionId_Answer\", \"MisconceptionId\"]].dropna()\n",
    "\n",
    "# Join the misconceptions with the long format train data\n",
    "train_long = train_long.merge(train_misconception_long, on=\"QuestionId_Answer\", how=\"inner\")"
   ]
  },
  {
   "cell_type": "code",
   "execution_count": 4,
   "metadata": {},
   "outputs": [],
   "source": [
    "model = SentenceTransformer(MODEL_NAME)\n",
    "\n",
    "# Compute embeddings for training data and misconception names\n",
    "train_long_vec = model.encode(train_long[\"AllText\"].tolist(), normalize_embeddings=True)\n",
    "misconception_mapping_vec = model.encode(misconception_mapping[\"MisconceptionName\"].tolist(), normalize_embeddings=True)\n",
    "\n",
    "# Calculate cosine similarity between each train sample and each misconception\n",
    "train_cos_sim_arr = cosine_similarity(train_long_vec, misconception_mapping_vec)\n",
    "train_sorted_indices = np.argsort(-train_cos_sim_arr, axis=1)\n",
    "\n",
    "# Retrieve top misconceptions based on similarity scores\n",
    "train_long[\"PredictMisconceptionId\"] = train_sorted_indices[:, :RETRIEVE_NUM].tolist()\n",
    "\n",
    "# Explode to create positive and negative pairs\n",
    "train_long_exploded = train_long.explode(\"PredictMisconceptionId\")\n",
    "train_long_exploded[\"PredictMisconceptionId\"] = train_long_exploded[\"PredictMisconceptionId\"].astype(int)\n",
    "\n",
    "# Merge to obtain names for positive and negative pairs\n",
    "train_retrieved = train_long_exploded.merge(misconception_mapping, left_on=\"MisconceptionId\", right_on=\"MisconceptionId\", how=\"left\")\n",
    "train_retrieved = train_retrieved.merge(misconception_mapping, left_on=\"PredictMisconceptionId\", right_on=\"MisconceptionId\", suffixes=(\"\", \"_predict\"))"
   ]
  },
  {
   "cell_type": "code",
   "execution_count": 5,
   "metadata": {},
   "outputs": [],
   "source": [
    "input_examples = []\n",
    "for _, row in train_retrieved.iterrows():\n",
    "    label = 1.0 if row[\"MisconceptionId\"] == row[\"PredictMisconceptionId\"] else 0.0\n",
    "    input_examples.append(InputExample(texts=[row[\"AllText\"], row[\"MisconceptionName\"], row[\"MisconceptionName_predict\"]], label=label))\n",
    "\n",
    "train_dataset = Dataset.from_dict({\n",
    "    \"AllText\": [ex.texts[0] for ex in input_examples],\n",
    "    \"MisconceptionName\": [ex.texts[1] for ex in input_examples],\n",
    "    \"MisconceptionName_predict\": [ex.texts[2] for ex in input_examples]\n",
    "})"
   ]
  },
  {
   "cell_type": "code",
   "execution_count": 6,
   "metadata": {},
   "outputs": [
    {
     "data": {
      "text/plain": [
       "Dataset({\n",
       "    features: ['AllText', 'MisconceptionName', 'MisconceptionName_predict'],\n",
       "    num_rows: 109250\n",
       "})"
      ]
     },
     "execution_count": 6,
     "metadata": {},
     "output_type": "execute_result"
    }
   ],
   "source": [
    "train_dataset"
   ]
  },
  {
   "cell_type": "code",
   "execution_count": 7,
   "metadata": {},
   "outputs": [
    {
     "data": {
      "application/vnd.jupyter.widget-view+json": {
       "model_id": "729f1fecf99a438e810825ad2d626e43",
       "version_major": 2,
       "version_minor": 0
      },
      "text/plain": [
       "  0%|          | 0/1706 [00:00<?, ?it/s]"
      ]
     },
     "metadata": {},
     "output_type": "display_data"
    },
    {
     "name": "stdout",
     "output_type": "stream",
     "text": [
      "{'loss': 1.0979, 'grad_norm': 7.897092342376709, 'learning_rate': 1.1695906432748539e-05, 'epoch': 0.12}\n"
     ]
    },
    {
     "data": {
      "application/vnd.jupyter.widget-view+json": {
       "model_id": "2f7be82f8d80441ab1ce6fa1aca2bc4d",
       "version_major": 2,
       "version_minor": 0
      },
      "text/plain": [
       "Computing widget examples:   0%|          | 0/1 [00:00<?, ?example/s]"
      ]
     },
     "metadata": {},
     "output_type": "display_data"
    },
    {
     "name": "stdout",
     "output_type": "stream",
     "text": [
      "{'loss': 0.8289, 'grad_norm': 10.08675765991211, 'learning_rate': 1.998239153532537e-05, 'epoch': 0.23}\n",
      "{'loss': 0.7499, 'grad_norm': 13.177895545959473, 'learning_rate': 1.9653496006324314e-05, 'epoch': 0.35}\n",
      "{'loss': 0.6532, 'grad_norm': 9.381768226623535, 'learning_rate': 1.8921650511379955e-05, 'epoch': 0.47}\n",
      "{'loss': 0.6243, 'grad_norm': 7.568357944488525, 'learning_rate': 1.7817403270232633e-05, 'epoch': 0.59}\n",
      "{'loss': 0.4934, 'grad_norm': 3.3164758682250977, 'learning_rate': 1.6386847054653495e-05, 'epoch': 0.7}\n",
      "{'loss': 0.5481, 'grad_norm': 7.626277923583984, 'learning_rate': 1.4689695213875816e-05, 'epoch': 0.82}\n",
      "{'loss': 0.4538, 'grad_norm': 2.045198917388916, 'learning_rate': 1.2796789158720497e-05, 'epoch': 0.94}\n",
      "{'loss': 0.4353, 'grad_norm': 5.132811069488525, 'learning_rate': 1.0787141345396042e-05, 'epoch': 1.05}\n",
      "{'loss': 0.3127, 'grad_norm': 3.67586612701416, 'learning_rate': 8.744637188824326e-06, 'epoch': 1.17}\n",
      "{'loss': 0.233, 'grad_norm': 5.07120943069458, 'learning_rate': 6.754533572085876e-06, 'epoch': 1.29}\n",
      "{'loss': 0.2137, 'grad_norm': 4.674691200256348, 'learning_rate': 4.899900108931308e-06, 'epoch': 1.41}\n",
      "{'loss': 0.1756, 'grad_norm': 9.155540466308594, 'learning_rate': 3.2581517058697064e-06, 'epoch': 1.52}\n",
      "{'loss': 0.149, 'grad_norm': 2.665508508682251, 'learning_rate': 1.8978171593772587e-06, 'epoch': 1.64}\n",
      "{'loss': 0.1436, 'grad_norm': 1.2088003158569336, 'learning_rate': 8.756786713445075e-07, 'epoch': 1.76}\n",
      "{'loss': 0.1645, 'grad_norm': 1.171873927116394, 'learning_rate': 2.3440168325216782e-07, 'epoch': 1.87}\n",
      "{'loss': 0.1649, 'grad_norm': 1.711515188217163, 'learning_rate': 7.539629993225106e-10, 'epoch': 1.99}\n",
      "{'train_runtime': 6685.4249, 'train_samples_per_second': 32.683, 'train_steps_per_second': 0.255, 'train_loss': 0.43657473742892006, 'epoch': 2.0}\n"
     ]
    }
   ],
   "source": [
    "model = SentenceTransformer(MODEL_NAME)\n",
    "\n",
    "loss = MultipleNegativesRankingLoss(model)\n",
    "\n",
    "args = SentenceTransformerTrainingArguments(\n",
    "    output_dir=MODEL_OUTPUT_PATH,\n",
    "    num_train_epochs=EPOCH,\n",
    "    per_device_train_batch_size=BATCH_SIZE,\n",
    "    gradient_accumulation_steps=GRAD_ACC_STEP,\n",
    "    per_device_eval_batch_size=BATCH_SIZE,\n",
    "    eval_accumulation_steps=GRAD_ACC_STEP,\n",
    "    learning_rate=LR,\n",
    "    weight_decay=0.01,\n",
    "    warmup_ratio=0.1,\n",
    "    fp16=True,\n",
    "    bf16=False,\n",
    "    batch_sampler=BatchSamplers.NO_DUPLICATES,\n",
    "    lr_scheduler_type=\"cosine_with_restarts\",\n",
    "    save_strategy=\"steps\",\n",
    "    save_steps=0.1,\n",
    "    save_total_limit=2,\n",
    "    logging_steps=100,\n",
    "    do_eval=False\n",
    ")\n",
    "\n",
    "trainer = SentenceTransformerTrainer(\n",
    "    model=model,\n",
    "    args=args,\n",
    "    train_dataset=train_dataset,\n",
    "    loss=loss\n",
    ")\n",
    "\n",
    "trainer.train()\n",
    "model.save_pretrained(MODEL_OUTPUT_PATH)"
   ]
  }
 ],
 "metadata": {
  "kernelspec": {
   "display_name": "cs5242",
   "language": "python",
   "name": "python3"
  },
  "language_info": {
   "codemirror_mode": {
    "name": "ipython",
    "version": 3
   },
   "file_extension": ".py",
   "mimetype": "text/x-python",
   "name": "python",
   "nbconvert_exporter": "python",
   "pygments_lexer": "ipython3",
   "version": "3.10.15"
  }
 },
 "nbformat": 4,
 "nbformat_minor": 2
}
