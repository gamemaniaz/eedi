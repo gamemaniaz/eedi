{
 "cells": [
  {
   "cell_type": "code",
   "execution_count": null,
   "metadata": {},
   "outputs": [],
   "source": [
    "import pandas as pd\n",
    "import numpy as np\n",
    "import torch\n",
    "from sentence_transformers import SentenceTransformer, InputExample, SentenceTransformerTrainer, SentenceTransformerTrainingArguments\n",
    "from sentence_transformers.losses import MultipleNegativesRankingLoss\n",
    "from sentence_transformers.training_args import BatchSamplers\n",
    "from sentence_transformers.evaluation import TripletEvaluator\n",
    "from torch.utils.data import DataLoader\n",
    "from datasets import Dataset\n",
    "from sklearn.metrics.pairwise import cosine_similarity\n",
    "from sklearn.model_selection import train_test_split\n",
    "from tqdm import tqdm"
   ]
  },
  {
   "cell_type": "code",
   "execution_count": null,
   "metadata": {},
   "outputs": [],
   "source": [
    "DATA_PATH = 'dataset'\n",
    "MODEL_NAME = 'BAAI/bge-large-en-v1.5'\n",
    "RETRIEVE_NUM = 25\n",
    "\n",
    "BATCH_SIZE = 4\n",
    "EPOCH = 2\n",
    "LR = 2e-05\n",
    "GRAD_ACC_STEP = 128 // BATCH_SIZE\n",
    "\n",
    "MODEL_OUTPUT_PATH = 'model/'\n",
    "\n",
    "train = pd.read_csv(f\"{DATA_PATH}/train.csv\")\n",
    "misconception_mapping = pd.read_csv(f\"{DATA_PATH}/misconception_mapping.csv\")"
   ]
  },
  {
   "cell_type": "code",
   "execution_count": null,
   "metadata": {},
   "outputs": [],
   "source": [
    "common_col = [\n",
    "    \"QuestionId\",\n",
    "    \"ConstructName\",\n",
    "    \"SubjectName\",\n",
    "    \"QuestionText\",\n",
    "    \"CorrectAnswer\",\n",
    "]\n",
    "\n",
    "train_long = (\n",
    "    train[common_col + [f\"Answer{alpha}Text\" for alpha in [\"A\", \"B\", \"C\", \"D\"]]]\n",
    "    .melt(\n",
    "        id_vars=common_col,\n",
    "        value_vars=[f\"Answer{alpha}Text\" for alpha in [\"A\", \"B\", \"C\", \"D\"]],\n",
    "        var_name=\"AnswerType\",\n",
    "        value_name=\"AnswerText\"\n",
    "    )\n",
    ")\n",
    "train_long[\"AllText\"] = train_long[\"ConstructName\"] + \" \" + train_long[\"SubjectName\"] + \" \" + train_long[\"QuestionText\"] + \" \" + train_long[\"AnswerText\"]\n",
    "train_long[\"AnswerAlphabet\"] = train_long[\"AnswerType\"].str.extract(r\"Answer([A-D])Text$\")\n",
    "train_long[\"QuestionId_Answer\"] = train_long[\"QuestionId\"].astype(str) + \"_\" + train_long[\"AnswerAlphabet\"]\n",
    "\n",
    "# Convert the misconceptions data to long format\n",
    "train_misconception_long = (\n",
    "    train[common_col + [f\"Misconception{alpha}Id\" for alpha in [\"A\", \"B\", \"C\", \"D\"]]]\n",
    "    .melt(\n",
    "        id_vars=common_col,\n",
    "        value_vars=[f\"Misconception{alpha}Id\" for alpha in [\"A\", \"B\", \"C\", \"D\"]],\n",
    "        var_name=\"MisconceptionType\",\n",
    "        value_name=\"MisconceptionId\"\n",
    "    )\n",
    ")\n",
    "train_misconception_long[\"AnswerAlphabet\"] = train_misconception_long[\"MisconceptionType\"].str.extract(r\"Misconception([A-D])Id$\")\n",
    "train_misconception_long[\"QuestionId_Answer\"] = train_misconception_long[\"QuestionId\"].astype(str) + \"_\" + train_misconception_long[\"AnswerAlphabet\"]\n",
    "train_misconception_long = train_misconception_long[[\"QuestionId_Answer\", \"MisconceptionId\"]].dropna()\n",
    "\n",
    "# Join the misconceptions with the long format train data\n",
    "train_long = train_long.merge(train_misconception_long, on=\"QuestionId_Answer\", how=\"inner\")"
   ]
  },
  {
   "cell_type": "code",
   "execution_count": null,
   "metadata": {},
   "outputs": [],
   "source": [
    "model = SentenceTransformer(MODEL_NAME)\n",
    "\n",
    "# Compute embeddings for training data and misconception names\n",
    "train_long_vec = model.encode(train_long[\"AllText\"].tolist(), normalize_embeddings=True)\n",
    "misconception_mapping_vec = model.encode(misconception_mapping[\"MisconceptionName\"].tolist(), normalize_embeddings=True)\n",
    "\n",
    "# Calculate cosine similarity between each train sample and each misconception\n",
    "train_cos_sim_arr = cosine_similarity(train_long_vec, misconception_mapping_vec)\n",
    "train_sorted_indices = np.argsort(-train_cos_sim_arr, axis=1)\n",
    "\n",
    "# Retrieve top misconceptions based on similarity scores\n",
    "train_long[\"PredictMisconceptionId\"] = train_sorted_indices[:, :RETRIEVE_NUM].tolist()\n",
    "\n",
    "# Explode to create positive and negative pairs\n",
    "train_long_exploded = train_long.explode(\"PredictMisconceptionId\")\n",
    "train_long_exploded[\"PredictMisconceptionId\"] = train_long_exploded[\"PredictMisconceptionId\"].astype(int)\n",
    "\n",
    "# Merge to obtain names for positive and negative pairs\n",
    "train_retrieved = train_long_exploded.merge(misconception_mapping, left_on=\"MisconceptionId\", right_on=\"MisconceptionId\", how=\"left\")\n",
    "train_retrieved = train_retrieved.merge(misconception_mapping, left_on=\"PredictMisconceptionId\", right_on=\"MisconceptionId\", suffixes=(\"\", \"_predict\"))"
   ]
  },
  {
   "cell_type": "code",
   "execution_count": null,
   "metadata": {},
   "outputs": [],
   "source": [
    "input_examples = []\n",
    "for _, row in train_retrieved.iterrows():\n",
    "    label = 1.0 if row[\"MisconceptionId\"] == row[\"PredictMisconceptionId\"] else 0.0\n",
    "    input_examples.append(InputExample(texts=[row[\"AllText\"], row[\"MisconceptionName\"], row[\"MisconceptionName_predict\"]], label=label))\n",
    "\n",
    "train_dataset = Dataset.from_dict({\n",
    "    \"AllText\": [ex.texts[0] for ex in input_examples],\n",
    "    \"MisconceptionName\": [ex.texts[1] for ex in input_examples],\n",
    "    \"MisconceptionName_predict\": [ex.texts[2] for ex in input_examples]\n",
    "})"
   ]
  },
  {
   "cell_type": "code",
   "execution_count": null,
   "metadata": {},
   "outputs": [],
   "source": [
    "train_dataset"
   ]
  },
  {
   "cell_type": "code",
   "execution_count": null,
   "metadata": {},
   "outputs": [],
   "source": [
    "model = SentenceTransformer(MODEL_NAME)\n",
    "\n",
    "loss = MultipleNegativesRankingLoss(model)\n",
    "\n",
    "args = SentenceTransformerTrainingArguments(\n",
    "    output_dir=MODEL_OUTPUT_PATH,\n",
    "    num_train_epochs=EPOCH,\n",
    "    per_device_train_batch_size=BATCH_SIZE,\n",
    "    gradient_accumulation_steps=GRAD_ACC_STEP,\n",
    "    per_device_eval_batch_size=BATCH_SIZE,\n",
    "    eval_accumulation_steps=GRAD_ACC_STEP,\n",
    "    learning_rate=LR,\n",
    "    weight_decay=0.01,\n",
    "    warmup_ratio=0.1,\n",
    "    fp16=True,\n",
    "    bf16=False,\n",
    "    batch_sampler=BatchSamplers.NO_DUPLICATES,\n",
    "    lr_scheduler_type=\"cosine_with_restarts\",\n",
    "    save_strategy=\"steps\",\n",
    "    save_steps=0.1,\n",
    "    save_total_limit=2,\n",
    "    logging_steps=100,\n",
    "    do_eval=False\n",
    ")\n",
    "\n",
    "trainer = SentenceTransformerTrainer(\n",
    "    model=model,\n",
    "    args=args,\n",
    "    train_dataset=train_dataset,\n",
    "    loss=loss\n",
    ")\n",
    "\n",
    "trainer.train()\n",
    "model.save_pretrained(MODEL_OUTPUT_PATH)"
   ]
  }
 ],
 "metadata": {
  "kernelspec": {
   "display_name": "cs5242",
   "language": "python",
   "name": "python3"
  },
  "language_info": {
   "codemirror_mode": {
    "name": "ipython",
    "version": 3
   },
   "file_extension": ".py",
   "mimetype": "text/x-python",
   "name": "python",
   "nbconvert_exporter": "python",
   "pygments_lexer": "ipython3",
   "version": "3.10.15"
  }
 },
 "nbformat": 4,
 "nbformat_minor": 2
}
